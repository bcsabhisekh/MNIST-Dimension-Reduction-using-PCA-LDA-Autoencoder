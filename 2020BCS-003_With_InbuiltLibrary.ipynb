{
  "nbformat": 4,
  "nbformat_minor": 0,
  "metadata": {
    "colab": {
      "provenance": []
    },
    "kernelspec": {
      "name": "python3",
      "display_name": "Python 3"
    },
    "language_info": {
      "name": "python"
    }
  },
  "cells": [
    {
      "cell_type": "code",
      "execution_count": 58,
      "metadata": {
        "id": "YYuFFn-9lpub"
      },
      "outputs": [],
      "source": [
        "import pandas as pd\n",
        "import numpy as np\n",
        "from sklearn.decomposition import PCA\n",
        "from sklearn.metrics import mean_squared_error\n",
        "\n",
        "import matplotlib.pyplot as plt\n",
        "\n",
        "from tensorflow.keras.datasets import mnist\n",
        "from tensorflow.keras.models import Model\n",
        "from tensorflow.keras import Sequential\n",
        "from tensorflow.keras import layers"
      ]
    },
    {
      "cell_type": "code",
      "source": [
        "from tensorflow.keras.datasets import mnist\n",
        "\n",
        "(X_train, y_train), (X_test, y_test) = mnist.load_data()"
      ],
      "metadata": {
        "id": "VjYQ-99_l3Z1"
      },
      "execution_count": 59,
      "outputs": []
    },
    {
      "cell_type": "code",
      "source": [
        "print('X_train: ' + str(X_train.shape))\n",
        "print('Y_train: ' + str(y_train.shape))\n",
        "print('X_test:  '  + str(X_test.shape))\n",
        "print('Y_test:  '  + str(y_test.shape))"
      ],
      "metadata": {
        "colab": {
          "base_uri": "https://localhost:8080/"
        },
        "id": "BFfBb9lhmDKD",
        "outputId": "76a4dc25-80a4-4c52-88e2-336bd735f55c"
      },
      "execution_count": 60,
      "outputs": [
        {
          "output_type": "stream",
          "name": "stdout",
          "text": [
            "X_train: (60000, 28, 28)\n",
            "Y_train: (60000,)\n",
            "X_test:  (10000, 28, 28)\n",
            "Y_test:  (10000,)\n"
          ]
        }
      ]
    },
    {
      "cell_type": "code",
      "source": [
        "X_train = X_train.astype('float32') / 255.\n",
        "X_test = X_test.astype('float32') / 255."
      ],
      "metadata": {
        "id": "8Lv9z-O9mHVU"
      },
      "execution_count": 61,
      "outputs": []
    },
    {
      "cell_type": "code",
      "source": [
        "X_train_reshape = X_train.reshape(-1,784)\n",
        "X_train_reshape.shape"
      ],
      "metadata": {
        "colab": {
          "base_uri": "https://localhost:8080/"
        },
        "id": "aHNUKJMgmNEy",
        "outputId": "44b48def-780a-4433-8fc2-e6cbe7c9fbb5"
      },
      "execution_count": 62,
      "outputs": [
        {
          "output_type": "execute_result",
          "data": {
            "text/plain": [
              "(60000, 784)"
            ]
          },
          "metadata": {},
          "execution_count": 62
        }
      ]
    },
    {
      "cell_type": "code",
      "source": [
        "_, ax = plt.subplots(2,2)\n",
        "\n",
        "ax[0, 0].imshow(X_train[0].reshape(28, 28))\n",
        "ax[0, 0].set_axis_off()\n",
        "ax[0, 1].imshow(X_train[1].reshape(28, 28))\n",
        "ax[0, 1].set_axis_off()\n",
        "\n",
        "ax[1, 0].imshow(X_train[2].reshape(28, 28))\n",
        "ax[1, 0].set_axis_off()\n",
        "ax[1, 1].imshow(X_train[3].reshape(28, 28))\n",
        "ax[1, 1].set_axis_off()\n",
        "\n",
        "plt.show()"
      ],
      "metadata": {
        "colab": {
          "base_uri": "https://localhost:8080/",
          "height": 248
        },
        "id": "BM5ZJp0imSXi",
        "outputId": "f7a32a28-02d8-447d-a50f-5a474e35c747"
      },
      "execution_count": 63,
      "outputs": [
        {
          "output_type": "display_data",
          "data": {
            "text/plain": [
              "<Figure size 432x288 with 4 Axes>"
            ],
            "image/png": "[encoded data removed]"
          },
          "metadata": {
            "needs_background": "light"
          }
        }
      ]
    },
    {
      "cell_type": "markdown",
      "source": [
        "## For M = 5"
      ],
      "metadata": {
        "id": "6M9Yk6O6nSC7"
      }
    },
    {
      "cell_type": "code",
      "source": [
        "# Applying PCA\n",
        "pca_5 = PCA(n_components = 5)\n",
        "X_5 = pca_5.fit_transform(X_train_reshape)\n",
        "\n",
        "print(X_5.shape)"
      ],
      "metadata": {
        "colab": {
          "base_uri": "https://localhost:8080/"
        },
        "id": "SSvTQgQKnUZu",
        "outputId": "1e6ac225-0d4c-42dc-cdff-a9876263fc58"
      },
      "execution_count": 64,
      "outputs": [
        {
          "output_type": "stream",
          "name": "stdout",
          "text": [
            "(60000, 5)\n"
          ]
        }
      ]
    },
    {
      "cell_type": "code",
      "source": [
        "_, ax = plt.subplots(2,2)\n",
        "\n",
        "ax[0, 0].imshow(X_5[0][:4].reshape(2, 2))\n",
        "ax[0, 0].set_axis_off()\n",
        "ax[0, 1].imshow(X_5[1][:4].reshape(2, 2))\n",
        "ax[0, 1].set_axis_off()\n",
        "\n",
        "ax[1, 0].imshow(X_5[2][:4].reshape(2, 2))\n",
        "ax[1, 0].set_axis_off()\n",
        "ax[1, 1].imshow(X_5[3][:4].reshape(2, 2))\n",
        "ax[1, 1].set_axis_off()\n",
        "\n",
        "plt.show()"
      ],
      "metadata": {
        "colab": {
          "base_uri": "https://localhost:8080/",
          "height": 248
        },
        "id": "_PvhRhubnZsu",
        "outputId": "1d34a53a-b617-4527-9e5b-8c63188a5ca7"
      },
      "execution_count": 65,
      "outputs": [
        {
          "output_type": "display_data",
          "data": {
            "text/plain": [
              "<Figure size 432x288 with 4 Axes>"
            ],
            "image/png": "[encoded data removed]"
          },
          "metadata": {
            "needs_background": "light"
          }
        }
      ]
    },
    {
      "cell_type": "code",
      "source": [
        "# Applying Reverse PCA\n",
        "rev_X_5 = pca_5.inverse_transform(X_5)\n",
        "\n",
        "_, ax = plt.subplots(2,2)\n",
        "\n",
        "ax[0, 0].imshow(rev_X_5[0].reshape(28, 28))\n",
        "ax[0, 0].set_axis_off()\n",
        "ax[0, 1].imshow(rev_X_5[1].reshape(28, 28))\n",
        "ax[0, 1].set_axis_off()\n",
        "\n",
        "ax[1, 0].imshow(rev_X_5[2].reshape(28, 28))\n",
        "ax[1, 0].set_axis_off()\n",
        "ax[1, 1].imshow(rev_X_5[3].reshape(28, 28))\n",
        "ax[1, 1].set_axis_off()\n",
        "\n",
        "plt.show()"
      ],
      "metadata": {
        "colab": {
          "base_uri": "https://localhost:8080/",
          "height": 248
        },
        "id": "8WgJnxzUnhQN",
        "outputId": "6539abcd-48a7-4a3a-e183-b0cfcd613d83"
      },
      "execution_count": 66,
      "outputs": [
        {
          "output_type": "display_data",
          "data": {
            "text/plain": [
              "<Figure size 432x288 with 4 Axes>"
            ],
            "image/png": "[encoded data removed]"
          },
          "metadata": {
            "needs_background": "light"
          }
        }
      ]
    },
    {
      "cell_type": "code",
      "source": [
        "print(\"Mean Square Error: \", mean_squared_error(X_train_reshape, rev_X_5))"
      ],
      "metadata": {
        "colab": {
          "base_uri": "https://localhost:8080/"
        },
        "id": "54xSLtvXpEJH",
        "outputId": "cd248013-550b-4eb1-cf51-3bd7d7a621a2"
      },
      "execution_count": 67,
      "outputs": [
        {
          "output_type": "stream",
          "name": "stdout",
          "text": [
            "Mean Square Error:  0.044904746\n"
          ]
        }
      ]
    },
    {
      "cell_type": "markdown",
      "source": [
        "## For M = 10"
      ],
      "metadata": {
        "id": "zOZWIQ-eo-Dt"
      }
    },
    {
      "cell_type": "code",
      "source": [
        "# Applying PCA\n",
        "pca_5 = PCA(n_components = 10)\n",
        "X_5 = pca_5.fit_transform(X_train_reshape)\n",
        "\n",
        "print(X_5.shape)"
      ],
      "metadata": {
        "colab": {
          "base_uri": "https://localhost:8080/"
        },
        "id": "aia--3s2ox1d",
        "outputId": "8b435eb3-234d-43a4-bbaf-5f4399471815"
      },
      "execution_count": 68,
      "outputs": [
        {
          "output_type": "stream",
          "name": "stdout",
          "text": [
            "(60000, 10)\n"
          ]
        }
      ]
    },
    {
      "cell_type": "code",
      "source": [
        "_, ax = plt.subplots(2,2)\n",
        "\n",
        "ax[0, 0].imshow(X_5[0][:9].reshape(3, 3))\n",
        "ax[0, 0].set_axis_off()\n",
        "ax[0, 1].imshow(X_5[1][:9].reshape(3, 3))\n",
        "ax[0, 1].set_axis_off()\n",
        "\n",
        "ax[1, 0].imshow(X_5[2][:9].reshape(3, 3))\n",
        "ax[1, 0].set_axis_off()\n",
        "ax[1, 1].imshow(X_5[3][:9].reshape(3, 3))\n",
        "ax[1, 1].set_axis_off()\n",
        "\n",
        "plt.show()"
      ],
      "metadata": {
        "colab": {
          "base_uri": "https://localhost:8080/",
          "height": 248
        },
        "id": "JRezMxQRpgvs",
        "outputId": "0dd7774e-7d5c-42a9-990d-516d1bfef019"
      },
      "execution_count": 69,
      "outputs": [
        {
          "output_type": "display_data",
          "data": {
            "text/plain": [
              "<Figure size 432x288 with 4 Axes>"
            ],
            "image/png": "[encoded data removed]"
          },
          "metadata": {
            "needs_background": "light"
          }
        }
      ]
    },
    {
      "cell_type": "code",
      "source": [
        "# Applying Reverse PCA\n",
        "rev_X_5 = pca_5.inverse_transform(X_5)\n",
        "\n",
        "_, ax = plt.subplots(2,2)\n",
        "\n",
        "ax[0, 0].imshow(rev_X_5[0].reshape(28, 28))\n",
        "ax[0, 0].set_axis_off()\n",
        "ax[0, 1].imshow(rev_X_5[1].reshape(28, 28))\n",
        "ax[0, 1].set_axis_off()\n",
        "\n",
        "ax[1, 0].imshow(rev_X_5[2].reshape(28, 28))\n",
        "ax[1, 0].set_axis_off()\n",
        "ax[1, 1].imshow(rev_X_5[3].reshape(28, 28))\n",
        "ax[1, 1].set_axis_off()\n",
        "\n",
        "plt.show()"
      ],
      "metadata": {
        "colab": {
          "base_uri": "https://localhost:8080/",
          "height": 248
        },
        "id": "vYuFcTHmp4xO",
        "outputId": "84eb37ae-62f7-4338-c2f5-bd651be31883"
      },
      "execution_count": 70,
      "outputs": [
        {
          "output_type": "display_data",
          "data": {
            "text/plain": [
              "<Figure size 432x288 with 4 Axes>"
            ],
            "image/png": "[encoded data removed]"
          },
          "metadata": {
            "needs_background": "light"
          }
        }
      ]
    },
    {
      "cell_type": "code",
      "source": [
        "print(\"Mean Square Error: \", mean_squared_error(X_train_reshape, rev_X_5))"
      ],
      "metadata": {
        "colab": {
          "base_uri": "https://localhost:8080/"
        },
        "id": "3K6JqnwJp7-P",
        "outputId": "f36a8cc4-e07b-41cd-fed1-8f7439a254aa"
      },
      "execution_count": 71,
      "outputs": [
        {
          "output_type": "stream",
          "name": "stdout",
          "text": [
            "Mean Square Error:  0.034422282\n"
          ]
        }
      ]
    },
    {
      "cell_type": "markdown",
      "source": [
        "## For M = 25"
      ],
      "metadata": {
        "id": "9WsSfgN-qDOl"
      }
    },
    {
      "cell_type": "code",
      "source": [
        "# Applying PCA\n",
        "pca_5 = PCA(n_components = 25)\n",
        "X_5 = pca_5.fit_transform(X_train_reshape)\n",
        "\n",
        "print(X_5.shape)"
      ],
      "metadata": {
        "colab": {
          "base_uri": "https://localhost:8080/"
        },
        "id": "_GlrdUx9p_K_",
        "outputId": "00146d53-ba7b-4e2f-b871-9ce3c268cd13"
      },
      "execution_count": 72,
      "outputs": [
        {
          "output_type": "stream",
          "name": "stdout",
          "text": [
            "(60000, 25)\n"
          ]
        }
      ]
    },
    {
      "cell_type": "code",
      "source": [
        "_, ax = plt.subplots(2,2)\n",
        "\n",
        "ax[0, 0].imshow(X_5[0][:25].reshape(5, 5))\n",
        "ax[0, 0].set_axis_off()\n",
        "ax[0, 1].imshow(X_5[1][:25].reshape(5, 5))\n",
        "ax[0, 1].set_axis_off()\n",
        "\n",
        "ax[1, 0].imshow(X_5[2][:25].reshape(5, 5))\n",
        "ax[1, 0].set_axis_off()\n",
        "ax[1, 1].imshow(X_5[3][:25].reshape(5, 5))\n",
        "ax[1, 1].set_axis_off()\n",
        "\n",
        "plt.show()"
      ],
      "metadata": {
        "colab": {
          "base_uri": "https://localhost:8080/",
          "height": 248
        },
        "id": "fEsN28dkqJmw",
        "outputId": "27e2dfa4-e11d-4c44-a5a6-cf8b4cd2837b"
      },
      "execution_count": 73,
      "outputs": [
        {
          "output_type": "display_data",
          "data": {
            "text/plain": [
              "<Figure size 432x288 with 4 Axes>"
            ],
            "image/png": "[encoded data removed]"
          },
          "metadata": {
            "needs_background": "light"
          }
        }
      ]
    },
    {
      "cell_type": "code",
      "source": [
        "# Applying Reverse PCA\n",
        "rev_X_5 = pca_5.inverse_transform(X_5)\n",
        "\n",
        "_, ax = plt.subplots(2,2)\n",
        "\n",
        "ax[0, 0].imshow(rev_X_5[0].reshape(28, 28))\n",
        "ax[0, 0].set_axis_off()\n",
        "ax[0, 1].imshow(rev_X_5[1].reshape(28, 28))\n",
        "ax[0, 1].set_axis_off()\n",
        "\n",
        "ax[1, 0].imshow(rev_X_5[2].reshape(28, 28))\n",
        "ax[1, 0].set_axis_off()\n",
        "ax[1, 1].imshow(rev_X_5[3].reshape(28, 28))\n",
        "ax[1, 1].set_axis_off()\n",
        "\n",
        "plt.show()"
      ],
      "metadata": {
        "colab": {
          "base_uri": "https://localhost:8080/",
          "height": 248
        },
        "id": "C_pohePcqPOx",
        "outputId": "3853e64a-0d7d-4bfb-b72c-5b8793b24dce"
      },
      "execution_count": 74,
      "outputs": [
        {
          "output_type": "display_data",
          "data": {
            "text/plain": [
              "<Figure size 432x288 with 4 Axes>"
            ],
            "image/png": "[encoded data removed]"
          },
          "metadata": {
            "needs_background": "light"
          }
        }
      ]
    },
    {
      "cell_type": "code",
      "source": [
        "print(\"Mean Square Error: \", mean_squared_error(X_train_reshape, rev_X_5))"
      ],
      "metadata": {
        "colab": {
          "base_uri": "https://localhost:8080/"
        },
        "id": "LcLIwP53qUPi",
        "outputId": "97df5f3b-4500-4f7b-935c-142f65b0e59c"
      },
      "execution_count": 75,
      "outputs": [
        {
          "output_type": "stream",
          "name": "stdout",
          "text": [
            "Mean Square Error:  0.020726487\n"
          ]
        }
      ]
    },
    {
      "cell_type": "markdown",
      "source": [
        "## For M = 64"
      ],
      "metadata": {
        "id": "EicB2cgnqapC"
      }
    },
    {
      "cell_type": "code",
      "source": [
        "# Applying PCA\n",
        "pca_5 = PCA(n_components = 64)\n",
        "X_5 = pca_5.fit_transform(X_train_reshape)\n",
        "\n",
        "print(X_5.shape)"
      ],
      "metadata": {
        "colab": {
          "base_uri": "https://localhost:8080/"
        },
        "id": "N8CIjrIKqYsi",
        "outputId": "225d7a4e-650e-4812-d8ff-4a16f55af79b"
      },
      "execution_count": 76,
      "outputs": [
        {
          "output_type": "stream",
          "name": "stdout",
          "text": [
            "(60000, 64)\n"
          ]
        }
      ]
    },
    {
      "cell_type": "code",
      "source": [
        "_, ax = plt.subplots(2,2)\n",
        "\n",
        "ax[0, 0].imshow(X_5[0].reshape(8, 8))\n",
        "ax[0, 0].set_axis_off()\n",
        "ax[0, 1].imshow(X_5[1].reshape(8, 8))\n",
        "ax[0, 1].set_axis_off()\n",
        "\n",
        "ax[1, 0].imshow(X_5[2].reshape(8, 8))\n",
        "ax[1, 0].set_axis_off()\n",
        "ax[1, 1].imshow(X_5[3].reshape(8, 8))\n",
        "ax[1, 1].set_axis_off()\n",
        "\n",
        "plt.show()"
      ],
      "metadata": {
        "colab": {
          "base_uri": "https://localhost:8080/",
          "height": 248
        },
        "id": "VZaXJT0_qgGi",
        "outputId": "cd509fd9-90cc-4760-9761-44e623b00554"
      },
      "execution_count": 77,
      "outputs": [
        {
          "output_type": "display_data",
          "data": {
            "text/plain": [
              "<Figure size 432x288 with 4 Axes>"
            ],
            "image/png": "[encoded data removed]"
          },
          "metadata": {
            "needs_background": "light"
          }
        }
      ]
    },
    {
      "cell_type": "code",
      "source": [
        "# Applying Reverse PCA\n",
        "rev_X_5 = pca_5.inverse_transform(X_5)\n",
        "\n",
        "_, ax = plt.subplots(2,2)\n",
        "\n",
        "ax[0, 0].imshow(rev_X_5[0].reshape(28, 28))\n",
        "ax[0, 0].set_axis_off()\n",
        "ax[0, 1].imshow(rev_X_5[1].reshape(28, 28))\n",
        "ax[0, 1].set_axis_off()\n",
        "\n",
        "ax[1, 0].imshow(rev_X_5[2].reshape(28, 28))\n",
        "ax[1, 0].set_axis_off()\n",
        "ax[1, 1].imshow(rev_X_5[3].reshape(28, 28))\n",
        "ax[1, 1].set_axis_off()\n",
        "\n",
        "plt.show()"
      ],
      "metadata": {
        "colab": {
          "base_uri": "https://localhost:8080/",
          "height": 248
        },
        "id": "9dXO3vf8qmdj",
        "outputId": "fb80bd72-f26a-45fd-8778-79aea00e3bbd"
      },
      "execution_count": 78,
      "outputs": [
        {
          "output_type": "display_data",
          "data": {
            "text/plain": [
              "<Figure size 432x288 with 4 Axes>"
            ],
            "image/png": "[encoded data removed]"
          },
          "metadata": {
            "needs_background": "light"
          }
        }
      ]
    },
    {
      "cell_type": "code",
      "source": [
        "print(\"Mean Square Error: \", mean_squared_error(X_train_reshape, rev_X_5))"
      ],
      "metadata": {
        "colab": {
          "base_uri": "https://localhost:8080/"
        },
        "id": "kyp2acNsqwvU",
        "outputId": "9bf4bc49-a235-41a4-e8b1-36992b57fd62"
      },
      "execution_count": 79,
      "outputs": [
        {
          "output_type": "stream",
          "name": "stdout",
          "text": [
            "Mean Square Error:  0.009286802\n"
          ]
        }
      ]
    },
    {
      "cell_type": "markdown",
      "source": [
        "## For M = 100"
      ],
      "metadata": {
        "id": "SHiP6J6CrC6S"
      }
    },
    {
      "cell_type": "code",
      "source": [
        "# Applying PCA\n",
        "pca_5 = PCA(n_components = 100)\n",
        "X_5 = pca_5.fit_transform(X_train_reshape)\n",
        "\n",
        "print(X_5.shape)"
      ],
      "metadata": {
        "colab": {
          "base_uri": "https://localhost:8080/"
        },
        "id": "Vh8HPKNXqz-D",
        "outputId": "e2876dcf-6957-4a34-c0f4-10dd89bd6e9b"
      },
      "execution_count": 80,
      "outputs": [
        {
          "output_type": "stream",
          "name": "stdout",
          "text": [
            "(60000, 100)\n"
          ]
        }
      ]
    },
    {
      "cell_type": "code",
      "source": [
        "_, ax = plt.subplots(2,2)\n",
        "\n",
        "ax[0, 0].imshow(X_5[0].reshape(10, 10))\n",
        "ax[0, 0].set_axis_off()\n",
        "ax[0, 1].imshow(X_5[1].reshape(10, 10))\n",
        "ax[0, 1].set_axis_off()\n",
        "\n",
        "ax[1, 0].imshow(X_5[2].reshape(10, 10))\n",
        "ax[1, 0].set_axis_off()\n",
        "ax[1, 1].imshow(X_5[3].reshape(10, 10))\n",
        "ax[1, 1].set_axis_off()\n",
        "\n",
        "plt.show()"
      ],
      "metadata": {
        "colab": {
          "base_uri": "https://localhost:8080/",
          "height": 248
        },
        "id": "99pVQlI3rGCU",
        "outputId": "1fead33d-945b-4712-ff32-323aaded0fb8"
      },
      "execution_count": 81,
      "outputs": [
        {
          "output_type": "display_data",
          "data": {
            "text/plain": [
              "<Figure size 432x288 with 4 Axes>"
            ],
            "image/png": "[encoded data removed]"
          },
          "metadata": {
            "needs_background": "light"
          }
        }
      ]
    },
    {
      "cell_type": "code",
      "source": [
        "# Applying Reverse PCA\n",
        "rev_X_5 = pca_5.inverse_transform(X_5)\n",
        "\n",
        "_, ax = plt.subplots(2,2)\n",
        "\n",
        "ax[0, 0].imshow(rev_X_5[0].reshape(28, 28))\n",
        "ax[0, 0].set_axis_off()\n",
        "ax[0, 1].imshow(rev_X_5[1].reshape(28, 28))\n",
        "ax[0, 1].set_axis_off()\n",
        "\n",
        "ax[1, 0].imshow(rev_X_5[2].reshape(28, 28))\n",
        "ax[1, 0].set_axis_off()\n",
        "ax[1, 1].imshow(rev_X_5[3].reshape(28, 28))\n",
        "ax[1, 1].set_axis_off()\n",
        "\n",
        "plt.show()"
      ],
      "metadata": {
        "colab": {
          "base_uri": "https://localhost:8080/",
          "height": 248
        },
        "id": "35W1qpNyrJfE",
        "outputId": "fcb83ff3-5287-460b-f450-7b208147cb89"
      },
      "execution_count": 82,
      "outputs": [
        {
          "output_type": "display_data",
          "data": {
            "text/plain": [
              "<Figure size 432x288 with 4 Axes>"
            ],
            "image/png": "[encoded data removed]"
          },
          "metadata": {
            "needs_background": "light"
          }
        }
      ]
    },
    {
      "cell_type": "code",
      "source": [
        "print(\"Mean Square Error: \", mean_squared_error(X_train_reshape, rev_X_5))"
      ],
      "metadata": {
        "colab": {
          "base_uri": "https://localhost:8080/"
        },
        "id": "m32a9CaGrOsV",
        "outputId": "d0cbb498-4f1e-46f1-8d69-6ca934956a1a"
      },
      "execution_count": 83,
      "outputs": [
        {
          "output_type": "stream",
          "name": "stdout",
          "text": [
            "Mean Square Error:  0.0057661594\n"
          ]
        }
      ]
    },
    {
      "cell_type": "markdown",
      "source": [
        "## For M = 200"
      ],
      "metadata": {
        "id": "gjPR0mkOsU6G"
      }
    },
    {
      "cell_type": "code",
      "source": [
        "# Applying PCA\n",
        "pca_5 = PCA(n_components = 200)\n",
        "X_5 = pca_5.fit_transform(X_train_reshape)\n",
        "\n",
        "print(X_5.shape)"
      ],
      "metadata": {
        "colab": {
          "base_uri": "https://localhost:8080/"
        },
        "id": "7Cu1KTvosT8l",
        "outputId": "dd761851-ffb5-483d-a948-e9d940a8eea9"
      },
      "execution_count": 84,
      "outputs": [
        {
          "output_type": "stream",
          "name": "stdout",
          "text": [
            "(60000, 200)\n"
          ]
        }
      ]
    },
    {
      "cell_type": "code",
      "source": [
        "_, ax = plt.subplots(2,2)\n",
        "\n",
        "ax[0, 0].imshow(X_5[0][:196].reshape(14, 14))\n",
        "ax[0, 0].set_axis_off()\n",
        "ax[0, 1].imshow(X_5[1][:196].reshape(14, 14))\n",
        "ax[0, 1].set_axis_off()\n",
        "\n",
        "ax[1, 0].imshow(X_5[2][:196].reshape(14, 14))\n",
        "ax[1, 0].set_axis_off()\n",
        "ax[1, 1].imshow(X_5[3][:196].reshape(14, 14))\n",
        "ax[1, 1].set_axis_off()\n",
        "\n",
        "plt.show()"
      ],
      "metadata": {
        "colab": {
          "base_uri": "https://localhost:8080/",
          "height": 248
        },
        "id": "px1EpHBPsbHF",
        "outputId": "748220cb-5191-4062-d8be-5e690401a4ab"
      },
      "execution_count": 85,
      "outputs": [
        {
          "output_type": "display_data",
          "data": {
            "text/plain": [
              "<Figure size 432x288 with 4 Axes>"
            ],
            "image/png": "[encoded data removed]"
          },
          "metadata": {
            "needs_background": "light"
          }
        }
      ]
    },
    {
      "cell_type": "code",
      "source": [
        "# Applying Reverse PCA\n",
        "rev_X_5 = pca_5.inverse_transform(X_5)\n",
        "\n",
        "_, ax = plt.subplots(2,2)\n",
        "\n",
        "ax[0, 0].imshow(rev_X_5[0].reshape(28, 28))\n",
        "ax[0, 0].set_axis_off()\n",
        "ax[0, 1].imshow(rev_X_5[1].reshape(28, 28))\n",
        "ax[0, 1].set_axis_off()\n",
        "\n",
        "ax[1, 0].imshow(rev_X_5[2].reshape(28, 28))\n",
        "ax[1, 0].set_axis_off()\n",
        "ax[1, 1].imshow(rev_X_5[3].reshape(28, 28))\n",
        "ax[1, 1].set_axis_off()\n",
        "\n",
        "plt.show()"
      ],
      "metadata": {
        "colab": {
          "base_uri": "https://localhost:8080/",
          "height": 248
        },
        "id": "_XFosRl6slil",
        "outputId": "cdbcc8c2-bd02-41c5-f147-053eb3f9f452"
      },
      "execution_count": 86,
      "outputs": [
        {
          "output_type": "display_data",
          "data": {
            "text/plain": [
              "<Figure size 432x288 with 4 Axes>"
            ],
            "image/png": "[encoded data removed]"
          },
          "metadata": {
            "needs_background": "light"
          }
        }
      ]
    },
    {
      "cell_type": "code",
      "source": [
        "print(\"Mean Square Error: \", mean_squared_error(X_train_reshape, rev_X_5))"
      ],
      "metadata": {
        "colab": {
          "base_uri": "https://localhost:8080/"
        },
        "id": "AqKzpVlwsoXF",
        "outputId": "b509adcd-71cd-49b8-cedb-737902f5956a"
      },
      "execution_count": 87,
      "outputs": [
        {
          "output_type": "stream",
          "name": "stdout",
          "text": [
            "Mean Square Error:  0.0022809335\n"
          ]
        }
      ]
    },
    {
      "cell_type": "markdown",
      "source": [
        "## For M = 784"
      ],
      "metadata": {
        "id": "kw0OdxJfsrsG"
      }
    },
    {
      "cell_type": "code",
      "source": [
        "# Applying PCA\n",
        "pca_5 = PCA(n_components = 784)\n",
        "X_5 = pca_5.fit_transform(X_train_reshape)\n",
        "\n",
        "print(X_5.shape)"
      ],
      "metadata": {
        "colab": {
          "base_uri": "https://localhost:8080/"
        },
        "id": "q1aLn7i4sqy1",
        "outputId": "c553c2fc-b705-461d-b75a-d03110a1fc8b"
      },
      "execution_count": 88,
      "outputs": [
        {
          "output_type": "stream",
          "name": "stdout",
          "text": [
            "(60000, 784)\n"
          ]
        }
      ]
    },
    {
      "cell_type": "code",
      "source": [
        "_, ax = plt.subplots(2,2)\n",
        "\n",
        "ax[0, 0].imshow(X_5[0].reshape(28, 28))\n",
        "ax[0, 0].set_axis_off()\n",
        "ax[0, 1].imshow(X_5[1].reshape(28, 28))\n",
        "ax[0, 1].set_axis_off()\n",
        "\n",
        "ax[1, 0].imshow(X_5[2].reshape(28, 28))\n",
        "ax[1, 0].set_axis_off()\n",
        "ax[1, 1].imshow(X_5[3].reshape(28, 28))\n",
        "ax[1, 1].set_axis_off()\n",
        "\n",
        "plt.show()"
      ],
      "metadata": {
        "colab": {
          "base_uri": "https://localhost:8080/",
          "height": 248
        },
        "id": "CbuBsH92sxqF",
        "outputId": "714feb9a-d4cd-41bf-967e-b131d985ae0b"
      },
      "execution_count": 89,
      "outputs": [
        {
          "output_type": "display_data",
          "data": {
            "text/plain": [
              "<Figure size 432x288 with 4 Axes>"
            ],
            "image/png": "[encoded data removed]"
          },
          "metadata": {
            "needs_background": "light"
          }
        }
      ]
    },
    {
      "cell_type": "code",
      "source": [
        "# Applying Reverse PCA\n",
        "rev_X_5 = pca_5.inverse_transform(X_5)\n",
        "\n",
        "_, ax = plt.subplots(2,2)\n",
        "\n",
        "ax[0, 0].imshow(rev_X_5[0].reshape(28, 28))\n",
        "ax[0, 0].set_axis_off()\n",
        "ax[0, 1].imshow(rev_X_5[1].reshape(28, 28))\n",
        "ax[0, 1].set_axis_off()\n",
        "\n",
        "ax[1, 0].imshow(rev_X_5[2].reshape(28, 28))\n",
        "ax[1, 0].set_axis_off()\n",
        "ax[1, 1].imshow(rev_X_5[3].reshape(28, 28))\n",
        "ax[1, 1].set_axis_off()\n",
        "\n",
        "plt.show()"
      ],
      "metadata": {
        "colab": {
          "base_uri": "https://localhost:8080/",
          "height": 248
        },
        "id": "N-FL_zHys5uV",
        "outputId": "af5de58c-b828-4baa-9b61-c31df6f53c2a"
      },
      "execution_count": 90,
      "outputs": [
        {
          "output_type": "display_data",
          "data": {
            "text/plain": [
              "<Figure size 432x288 with 4 Axes>"
            ],
            "image/png": "[encoded data removed]"
          },
          "metadata": {
            "needs_background": "light"
          }
        }
      ]
    },
    {
      "cell_type": "code",
      "source": [
        "print(\"Mean Square Error: \", mean_squared_error(X_train_reshape, rev_X_5))"
      ],
      "metadata": {
        "colab": {
          "base_uri": "https://localhost:8080/"
        },
        "id": "587v8pgns8u1",
        "outputId": "64c7cf62-c6f3-433a-8771-3bc5ffbe2422"
      },
      "execution_count": 91,
      "outputs": [
        {
          "output_type": "stream",
          "name": "stdout",
          "text": [
            "Mean Square Error:  1.5277871e-13\n"
          ]
        }
      ]
    },
    {
      "cell_type": "code",
      "source": [
        "class Autoencoder(Model):\n",
        "    def __init__(self, P, Q, R, M):\n",
        "        super(Autoencoder, self).__init__()\n",
        "        \n",
        "        self.encoder = Sequential([\n",
        "          layers.Flatten(),\n",
        "          layers.Dense(P, activation='relu'),\n",
        "          layers.Dense(Q, activation='relu'),\n",
        "          layers.Dense(R, activation='relu'),\n",
        "          layers.Dense(M, activation='relu'),\n",
        "        ])\n",
        "        \n",
        "        self.decoder = Sequential([\n",
        "          layers.Dense(P, activation='relu'),\n",
        "          layers.Dense(Q, activation='relu'),\n",
        "          layers.Dense(R, activation='relu'),\n",
        "          layers.Dense(784, activation='sigmoid'),\n",
        "          layers.Reshape((28, 28))\n",
        "        ])\n",
        "\n",
        "    def call(self, x):\n",
        "        encoded = self.encoder(x)\n",
        "        decoded = self.decoder(encoded)\n",
        "        \n",
        "        return decoded"
      ],
      "metadata": {
        "id": "m4S_bxzas_pl"
      },
      "execution_count": 92,
      "outputs": []
    },
    {
      "cell_type": "markdown",
      "source": [
        "## For M = 5"
      ],
      "metadata": {
        "id": "CguoEXE-tMPg"
      }
    },
    {
      "cell_type": "code",
      "source": [
        "autoencoder_5 = Autoencoder(P=128, Q=128, R=128, M=5)\n",
        "autoencoder_5.compile(optimizer='adam', loss='mean_squared_error')\n",
        "\n",
        "autoencoder_5.fit(\n",
        "    X_train,\n",
        "    X_train,\n",
        "    epochs=10,\n",
        "    shuffle=True,\n",
        "    validation_data=(X_test, X_test)\n",
        ")\n",
        "\n",
        "X_autoencoder_5 = autoencoder_5.encoder(X_train).numpy()"
      ],
      "metadata": {
        "colab": {
          "base_uri": "https://localhost:8080/"
        },
        "id": "6SvBcrXrtNPV",
        "outputId": "34b790b2-8310-452c-ada4-6f64b78190ac"
      },
      "execution_count": 93,
      "outputs": [
        {
          "output_type": "stream",
          "name": "stdout",
          "text": [
            "Epoch 1/10\n",
            "1875/1875 [==============================] - 18s 9ms/step - loss: 0.0465 - val_loss: 0.0351\n",
            "Epoch 2/10\n",
            "1875/1875 [==============================] - 17s 9ms/step - loss: 0.0333 - val_loss: 0.0321\n",
            "Epoch 3/10\n",
            "1875/1875 [==============================] - 17s 9ms/step - loss: 0.0311 - val_loss: 0.0303\n",
            "Epoch 4/10\n",
            "1875/1875 [==============================] - 16s 8ms/step - loss: 0.0299 - val_loss: 0.0297\n",
            "Epoch 5/10\n",
            "1875/1875 [==============================] - 16s 8ms/step - loss: 0.0291 - val_loss: 0.0293\n",
            "Epoch 6/10\n",
            "1875/1875 [==============================] - 16s 8ms/step - loss: 0.0284 - val_loss: 0.0285\n",
            "Epoch 7/10\n",
            "1875/1875 [==============================] - 17s 9ms/step - loss: 0.0279 - val_loss: 0.0280\n",
            "Epoch 8/10\n",
            "1875/1875 [==============================] - 16s 8ms/step - loss: 0.0275 - val_loss: 0.0276\n",
            "Epoch 9/10\n",
            "1875/1875 [==============================] - 16s 9ms/step - loss: 0.0272 - val_loss: 0.0274\n",
            "Epoch 10/10\n",
            "1875/1875 [==============================] - 17s 9ms/step - loss: 0.0269 - val_loss: 0.0272\n"
          ]
        }
      ]
    },
    {
      "cell_type": "code",
      "source": [
        "X_autoencoder_5.shape"
      ],
      "metadata": {
        "colab": {
          "base_uri": "https://localhost:8080/"
        },
        "id": "oFYceJVjtN5V",
        "outputId": "acc2f815-1d27-4022-a9d5-c94ff3e24034"
      },
      "execution_count": 94,
      "outputs": [
        {
          "output_type": "execute_result",
          "data": {
            "text/plain": [
              "(60000, 5)"
            ]
          },
          "metadata": {},
          "execution_count": 94
        }
      ]
    },
    {
      "cell_type": "code",
      "source": [
        "_, ax = plt.subplots(2,2)\n",
        "\n",
        "ax[0, 0].imshow(X_autoencoder_5[4][:4].reshape(2, 2))\n",
        "ax[0, 0].set_axis_off()\n",
        "ax[0, 1].imshow(X_autoencoder_5[5][:4].reshape(2, 2))\n",
        "ax[0, 1].set_axis_off()\n",
        "\n",
        "ax[1, 0].imshow(X_autoencoder_5[6][:4].reshape(2, 2))\n",
        "ax[1, 0].set_axis_off()\n",
        "ax[1, 1].imshow(X_autoencoder_5[7][:4].reshape(2, 2))\n",
        "ax[1, 1].set_axis_off()\n",
        "\n",
        "plt.show()"
      ],
      "metadata": {
        "colab": {
          "base_uri": "https://localhost:8080/",
          "height": 248
        },
        "id": "9jfnumncuBk_",
        "outputId": "2a230b74-7c0a-4a36-b3aa-0eecb0a16f6d"
      },
      "execution_count": 95,
      "outputs": [
        {
          "output_type": "display_data",
          "data": {
            "text/plain": [
              "<Figure size 432x288 with 4 Axes>"
            ],
            "image/png": "[encoded data removed]"
          },
          "metadata": {
            "needs_background": "light"
          }
        }
      ]
    },
    {
      "cell_type": "code",
      "source": [
        "X_encoder_orig5 = autoencoder_5.decoder(X_autoencoder_5).numpy()\n",
        "\n",
        "_, ax = plt.subplots(2,2)\n",
        "\n",
        "ax[0, 0].imshow(X_encoder_orig5[4].reshape(28, 28))\n",
        "ax[0, 0].set_axis_off()\n",
        "ax[0, 1].imshow(X_encoder_orig5[5].reshape(28, 28))\n",
        "ax[0, 1].set_axis_off()\n",
        "\n",
        "ax[1, 0].imshow(X_encoder_orig5[6].reshape(28, 28))\n",
        "ax[1, 0].set_axis_off()\n",
        "ax[1, 1].imshow(X_encoder_orig5[7].reshape(28, 28))\n",
        "ax[1, 1].set_axis_off()\n",
        "\n",
        "plt.show()"
      ],
      "metadata": {
        "colab": {
          "base_uri": "https://localhost:8080/",
          "height": 248
        },
        "id": "wtXovj4ZuHkF",
        "outputId": "17a7a930-0337-4ea8-ede3-e467e128578f"
      },
      "execution_count": 96,
      "outputs": [
        {
          "output_type": "display_data",
          "data": {
            "text/plain": [
              "<Figure size 432x288 with 4 Axes>"
            ],
            "image/png": "[encoded data removed]"
          },
          "metadata": {
            "needs_background": "light"
          }
        }
      ]
    },
    {
      "cell_type": "code",
      "source": [
        "mean_squared_error(X_train_reshape, X_encoder_orig5.reshape(-1, 784))"
      ],
      "metadata": {
        "colab": {
          "base_uri": "https://localhost:8080/"
        },
        "id": "TOEYOKwzuJ2G",
        "outputId": "d6bbfcc4-c0a9-4dd0-f8b3-8c8e107500d0"
      },
      "execution_count": 97,
      "outputs": [
        {
          "output_type": "execute_result",
          "data": {
            "text/plain": [
              "0.026597379"
            ]
          },
          "metadata": {},
          "execution_count": 97
        }
      ]
    },
    {
      "cell_type": "markdown",
      "source": [
        "## For M = 10"
      ],
      "metadata": {
        "id": "T1vHcY3nuNjm"
      }
    },
    {
      "cell_type": "code",
      "source": [
        "autoencoder_10 = Autoencoder(P=128, Q=128, R=128, M=10)\n",
        "autoencoder_10.compile(optimizer='adam', loss='mean_squared_error')\n",
        "\n",
        "autoencoder_10.fit(\n",
        "    X_train,\n",
        "    X_train,\n",
        "    epochs=10,\n",
        "    shuffle=True,\n",
        "    validation_data=(X_test, X_test)\n",
        ")\n",
        "\n",
        "X_autoencoder_10 = autoencoder_10.encoder(X_train).numpy()"
      ],
      "metadata": {
        "colab": {
          "base_uri": "https://localhost:8080/"
        },
        "id": "1-7rKYkeuMT2",
        "outputId": "7ea2dcce-8798-49ce-9c2b-19a2977371f9"
      },
      "execution_count": 98,
      "outputs": [
        {
          "output_type": "stream",
          "name": "stdout",
          "text": [
            "Epoch 1/10\n",
            "1875/1875 [==============================] - 19s 9ms/step - loss: 0.0373 - val_loss: 0.0246\n",
            "Epoch 2/10\n",
            "1875/1875 [==============================] - 18s 9ms/step - loss: 0.0230 - val_loss: 0.0213\n",
            "Epoch 3/10\n",
            "1875/1875 [==============================] - 16s 9ms/step - loss: 0.0205 - val_loss: 0.0195\n",
            "Epoch 4/10\n",
            "1875/1875 [==============================] - 15s 8ms/step - loss: 0.0192 - val_loss: 0.0189\n",
            "Epoch 5/10\n",
            "1875/1875 [==============================] - 16s 9ms/step - loss: 0.0183 - val_loss: 0.0178\n",
            "Epoch 6/10\n",
            "1875/1875 [==============================] - 16s 8ms/step - loss: 0.0177 - val_loss: 0.0172\n",
            "Epoch 7/10\n",
            "1875/1875 [==============================] - 16s 8ms/step - loss: 0.0172 - val_loss: 0.0167\n",
            "Epoch 8/10\n",
            "1875/1875 [==============================] - 15s 8ms/step - loss: 0.0168 - val_loss: 0.0169\n",
            "Epoch 9/10\n",
            "1875/1875 [==============================] - 16s 9ms/step - loss: 0.0164 - val_loss: 0.0164\n",
            "Epoch 10/10\n",
            "1875/1875 [==============================] - 16s 9ms/step - loss: 0.0162 - val_loss: 0.0160\n"
          ]
        }
      ]
    },
    {
      "cell_type": "code",
      "source": [
        "X_autoencoder_10.shape"
      ],
      "metadata": {
        "colab": {
          "base_uri": "https://localhost:8080/"
        },
        "id": "TrYrC6znuS-f",
        "outputId": "4da18de6-22d6-4cf1-a154-4a38544f49c8"
      },
      "execution_count": 99,
      "outputs": [
        {
          "output_type": "execute_result",
          "data": {
            "text/plain": [
              "(60000, 10)"
            ]
          },
          "metadata": {},
          "execution_count": 99
        }
      ]
    },
    {
      "cell_type": "code",
      "source": [
        "_, ax = plt.subplots(2,2)\n",
        "\n",
        "ax[0, 0].imshow(X_autoencoder_10[4][:9].reshape(3, 3))\n",
        "ax[0, 0].set_axis_off()\n",
        "ax[0, 1].imshow(X_autoencoder_10[5][:9].reshape(3, 3))\n",
        "ax[0, 1].set_axis_off()\n",
        "\n",
        "ax[1, 0].imshow(X_autoencoder_10[6][:9].reshape(3, 3))\n",
        "ax[1, 0].set_axis_off()\n",
        "ax[1, 1].imshow(X_autoencoder_10[7][:9].reshape(3, 3))\n",
        "ax[1, 1].set_axis_off()\n",
        "\n",
        "plt.show()"
      ],
      "metadata": {
        "colab": {
          "base_uri": "https://localhost:8080/",
          "height": 248
        },
        "id": "K81pf3NfuVAG",
        "outputId": "f9b8b201-8658-4e71-9099-8f497937a640"
      },
      "execution_count": 100,
      "outputs": [
        {
          "output_type": "display_data",
          "data": {
            "text/plain": [
              "<Figure size 432x288 with 4 Axes>"
            ],
            "image/png": "[encoded data removed]"
          },
          "metadata": {
            "needs_background": "light"
          }
        }
      ]
    },
    {
      "cell_type": "code",
      "source": [
        "X_encoder_orig10 = autoencoder_10.decoder(X_autoencoder_10).numpy()\n",
        "\n",
        "_, ax = plt.subplots(2,2)\n",
        "\n",
        "ax[0, 0].imshow(X_encoder_orig10[4].reshape(28, 28))\n",
        "ax[0, 0].set_axis_off()\n",
        "ax[0, 1].imshow(X_encoder_orig10[5].reshape(28, 28))\n",
        "ax[0, 1].set_axis_off()\n",
        "\n",
        "ax[1, 0].imshow(X_encoder_orig10[6].reshape(28, 28))\n",
        "ax[1, 0].set_axis_off()\n",
        "ax[1, 1].imshow(X_encoder_orig10[7].reshape(28, 28))\n",
        "ax[1, 1].set_axis_off()\n",
        "\n",
        "plt.show()"
      ],
      "metadata": {
        "colab": {
          "base_uri": "https://localhost:8080/",
          "height": 248
        },
        "id": "3_JgMZuZuXM0",
        "outputId": "faa6892d-f518-434e-a52f-ddda0c0b259e"
      },
      "execution_count": 101,
      "outputs": [
        {
          "output_type": "display_data",
          "data": {
            "text/plain": [
              "<Figure size 432x288 with 4 Axes>"
            ],
            "image/png": "[encoded data removed]"
          },
          "metadata": {
            "needs_background": "light"
          }
        }
      ]
    },
    {
      "cell_type": "code",
      "source": [
        "mean_squared_error(X_train_reshape, X_encoder_orig10.reshape(-1, 784))"
      ],
      "metadata": {
        "colab": {
          "base_uri": "https://localhost:8080/"
        },
        "id": "iub3jLbtuZHM",
        "outputId": "88c2f0bf-88ed-4211-fe66-dbaacdb0dc68"
      },
      "execution_count": 102,
      "outputs": [
        {
          "output_type": "execute_result",
          "data": {
            "text/plain": [
              "0.01576325"
            ]
          },
          "metadata": {},
          "execution_count": 102
        }
      ]
    },
    {
      "cell_type": "markdown",
      "source": [
        "## For M = 25"
      ],
      "metadata": {
        "id": "7aadnMPwubWf"
      }
    },
    {
      "cell_type": "code",
      "source": [
        "autoencoder_25 = Autoencoder(P=128, Q=128, R=128, M=25)\n",
        "autoencoder_25.compile(optimizer='adam', loss='mean_squared_error')\n",
        "\n",
        "autoencoder_25.fit(\n",
        "    X_train,\n",
        "    X_train,\n",
        "    epochs=10,\n",
        "    shuffle=True,\n",
        "    validation_data=(X_test, X_test)\n",
        ")\n",
        "\n",
        "X_autoencoder_25 = autoencoder_25.encoder(X_train).numpy()"
      ],
      "metadata": {
        "colab": {
          "base_uri": "https://localhost:8080/"
        },
        "id": "SJof6IgXucqm",
        "outputId": "de4ef8c0-36f8-45b8-aef2-260b401e3691"
      },
      "execution_count": 103,
      "outputs": [
        {
          "output_type": "stream",
          "name": "stdout",
          "text": [
            "Epoch 1/10\n",
            "1875/1875 [==============================] - 18s 9ms/step - loss: 0.0334 - val_loss: 0.0202\n",
            "Epoch 2/10\n",
            "1875/1875 [==============================] - 17s 9ms/step - loss: 0.0181 - val_loss: 0.0162\n",
            "Epoch 3/10\n",
            "1875/1875 [==============================] - 16s 8ms/step - loss: 0.0149 - val_loss: 0.0136\n",
            "Epoch 4/10\n",
            "1875/1875 [==============================] - 16s 8ms/step - loss: 0.0131 - val_loss: 0.0121\n",
            "Epoch 5/10\n",
            "1875/1875 [==============================] - 15s 8ms/step - loss: 0.0121 - val_loss: 0.0116\n",
            "Epoch 6/10\n",
            "1875/1875 [==============================] - 17s 9ms/step - loss: 0.0114 - val_loss: 0.0108\n",
            "Epoch 7/10\n",
            "1875/1875 [==============================] - 16s 8ms/step - loss: 0.0110 - val_loss: 0.0106\n",
            "Epoch 8/10\n",
            "1875/1875 [==============================] - 16s 9ms/step - loss: 0.0106 - val_loss: 0.0104\n",
            "Epoch 9/10\n",
            "1875/1875 [==============================] - 15s 8ms/step - loss: 0.0104 - val_loss: 0.0101\n",
            "Epoch 10/10\n",
            "1875/1875 [==============================] - 15s 8ms/step - loss: 0.0102 - val_loss: 0.0102\n"
          ]
        }
      ]
    },
    {
      "cell_type": "code",
      "source": [
        "X_autoencoder_25.shape"
      ],
      "metadata": {
        "colab": {
          "base_uri": "https://localhost:8080/"
        },
        "id": "945vANidufEb",
        "outputId": "3fc2ac66-ad79-4fd0-e3ee-ca00f036e221"
      },
      "execution_count": 104,
      "outputs": [
        {
          "output_type": "execute_result",
          "data": {
            "text/plain": [
              "(60000, 25)"
            ]
          },
          "metadata": {},
          "execution_count": 104
        }
      ]
    },
    {
      "cell_type": "code",
      "source": [
        "_, ax = plt.subplots(2,2)\n",
        "\n",
        "ax[0, 0].imshow(X_autoencoder_25[4].reshape(5, 5))\n",
        "ax[0, 0].set_axis_off()\n",
        "ax[0, 1].imshow(X_autoencoder_25[5].reshape(5, 5))\n",
        "ax[0, 1].set_axis_off()\n",
        "\n",
        "ax[1, 0].imshow(X_autoencoder_25[6].reshape(5, 5))\n",
        "ax[1, 0].set_axis_off()\n",
        "ax[1, 1].imshow(X_autoencoder_25[7].reshape(5, 5))\n",
        "ax[1, 1].set_axis_off()\n",
        "\n",
        "plt.show()"
      ],
      "metadata": {
        "colab": {
          "base_uri": "https://localhost:8080/",
          "height": 248
        },
        "id": "AiHdHKWduhl1",
        "outputId": "9888d418-52b2-47d2-d669-4d75a4a3bfcd"
      },
      "execution_count": 105,
      "outputs": [
        {
          "output_type": "display_data",
          "data": {
            "text/plain": [
              "<Figure size 432x288 with 4 Axes>"
            ],
            "image/png": "[encoded data removed]"
          },
          "metadata": {
            "needs_background": "light"
          }
        }
      ]
    },
    {
      "cell_type": "code",
      "source": [
        "X_encoder_orig25 = autoencoder_25.decoder(X_autoencoder_25).numpy()\n",
        "\n",
        "_, ax = plt.subplots(2,2)\n",
        "\n",
        "ax[0, 0].imshow(X_encoder_orig25[4].reshape(28, 28))\n",
        "ax[0, 0].set_axis_off()\n",
        "ax[0, 1].imshow(X_encoder_orig25[5].reshape(28, 28))\n",
        "ax[0, 1].set_axis_off()\n",
        "\n",
        "ax[1, 0].imshow(X_encoder_orig25[6].reshape(28, 28))\n",
        "ax[1, 0].set_axis_off()\n",
        "ax[1, 1].imshow(X_encoder_orig25[7].reshape(28, 28))\n",
        "ax[1, 1].set_axis_off()\n",
        "\n",
        "plt.show()"
      ],
      "metadata": {
        "colab": {
          "base_uri": "https://localhost:8080/",
          "height": 248
        },
        "id": "xsCHGxoUukbG",
        "outputId": "6a9a1029-60a2-4c0f-fc00-592340656d28"
      },
      "execution_count": 106,
      "outputs": [
        {
          "output_type": "display_data",
          "data": {
            "text/plain": [
              "<Figure size 432x288 with 4 Axes>"
            ],
            "image/png": "[encoded data removed]"
          },
          "metadata": {
            "needs_background": "light"
          }
        }
      ]
    },
    {
      "cell_type": "code",
      "source": [
        "mean_squared_error(X_train_reshape, X_encoder_orig25.reshape(-1, 784))"
      ],
      "metadata": {
        "colab": {
          "base_uri": "https://localhost:8080/"
        },
        "id": "VQvvMAVaum_5",
        "outputId": "1593628b-aec0-43b9-bec0-17b0964df060"
      },
      "execution_count": 107,
      "outputs": [
        {
          "output_type": "execute_result",
          "data": {
            "text/plain": [
              "0.010112142"
            ]
          },
          "metadata": {},
          "execution_count": 107
        }
      ]
    },
    {
      "cell_type": "markdown",
      "source": [
        "## For M = 64"
      ],
      "metadata": {
        "id": "p9SAC8srupWQ"
      }
    },
    {
      "cell_type": "code",
      "source": [
        "autoencoder_64 = Autoencoder(P=128, Q=128, R=128, M=64)\n",
        "autoencoder_64.compile(optimizer='adam', loss='mean_squared_error')\n",
        "\n",
        "autoencoder_64.fit(\n",
        "    X_train,\n",
        "    X_train,\n",
        "    epochs=10,\n",
        "    shuffle=True,\n",
        "    validation_data=(X_test, X_test)\n",
        ")\n",
        "\n",
        "X_autoencoder_64 = autoencoder_64.encoder(X_train).numpy()"
      ],
      "metadata": {
        "colab": {
          "base_uri": "https://localhost:8080/"
        },
        "id": "C2J9nzieuqbF",
        "outputId": "b9a6cce2-a9c6-43d6-9ac4-4bca1c53cf83"
      },
      "execution_count": 108,
      "outputs": [
        {
          "output_type": "stream",
          "name": "stdout",
          "text": [
            "Epoch 1/10\n",
            "1875/1875 [==============================] - 18s 9ms/step - loss: 0.0316 - val_loss: 0.0194\n",
            "Epoch 2/10\n",
            "1875/1875 [==============================] - 15s 8ms/step - loss: 0.0168 - val_loss: 0.0142\n",
            "Epoch 3/10\n",
            "1875/1875 [==============================] - 15s 8ms/step - loss: 0.0136 - val_loss: 0.0121\n",
            "Epoch 4/10\n",
            "1875/1875 [==============================] - 15s 8ms/step - loss: 0.0118 - val_loss: 0.0107\n",
            "Epoch 5/10\n",
            "1875/1875 [==============================] - 15s 8ms/step - loss: 0.0106 - val_loss: 0.0098\n",
            "Epoch 6/10\n",
            "1875/1875 [==============================] - 15s 8ms/step - loss: 0.0097 - val_loss: 0.0093\n",
            "Epoch 7/10\n",
            "1875/1875 [==============================] - 15s 8ms/step - loss: 0.0091 - val_loss: 0.0087\n",
            "Epoch 8/10\n",
            "1875/1875 [==============================] - 15s 8ms/step - loss: 0.0086 - val_loss: 0.0083\n",
            "Epoch 9/10\n",
            "1875/1875 [==============================] - 15s 8ms/step - loss: 0.0082 - val_loss: 0.0079\n",
            "Epoch 10/10\n",
            "1875/1875 [==============================] - 15s 8ms/step - loss: 0.0079 - val_loss: 0.0075\n"
          ]
        }
      ]
    },
    {
      "cell_type": "code",
      "source": [
        "X_autoencoder_64.shape"
      ],
      "metadata": {
        "colab": {
          "base_uri": "https://localhost:8080/"
        },
        "id": "MAWA7nz5uyoF",
        "outputId": "7a94ecd0-1d8e-477d-d7fa-a745662b736a"
      },
      "execution_count": 109,
      "outputs": [
        {
          "output_type": "execute_result",
          "data": {
            "text/plain": [
              "(60000, 64)"
            ]
          },
          "metadata": {},
          "execution_count": 109
        }
      ]
    },
    {
      "cell_type": "code",
      "source": [
        "_, ax = plt.subplots(2,2)\n",
        "\n",
        "ax[0, 0].imshow(X_autoencoder_64[4].reshape(8, 8))\n",
        "ax[0, 0].set_axis_off()\n",
        "ax[0, 1].imshow(X_autoencoder_64[5].reshape(8, 8))\n",
        "ax[0, 1].set_axis_off()\n",
        "\n",
        "ax[1, 0].imshow(X_autoencoder_64[6].reshape(8, 8))\n",
        "ax[1, 0].set_axis_off()\n",
        "ax[1, 1].imshow(X_autoencoder_64[7].reshape(8, 8))\n",
        "ax[1, 1].set_axis_off()\n",
        "\n",
        "plt.show()"
      ],
      "metadata": {
        "colab": {
          "base_uri": "https://localhost:8080/",
          "height": 248
        },
        "id": "Y_zZ4Xfzu0zD",
        "outputId": "3e9ec7ea-840a-4c0f-f710-15ca554b170f"
      },
      "execution_count": 110,
      "outputs": [
        {
          "output_type": "display_data",
          "data": {
            "text/plain": [
              "<Figure size 432x288 with 4 Axes>"
            ],
            "image/png": "[encoded data removed]"
          },
          "metadata": {
            "needs_background": "light"
          }
        }
      ]
    },
    {
      "cell_type": "code",
      "source": [
        "X_encoder_orig64 = autoencoder_64.decoder(X_autoencoder_64).numpy()\n",
        "\n",
        "_, ax = plt.subplots(2,2)\n",
        "\n",
        "ax[0, 0].imshow(X_encoder_orig64[4].reshape(28, 28))\n",
        "ax[0, 0].set_axis_off()\n",
        "ax[0, 1].imshow(X_encoder_orig64[5].reshape(28, 28))\n",
        "ax[0, 1].set_axis_off()\n",
        "\n",
        "ax[1, 0].imshow(X_encoder_orig64[6].reshape(28, 28))\n",
        "ax[1, 0].set_axis_off()\n",
        "ax[1, 1].imshow(X_encoder_orig64[7].reshape(28, 28))\n",
        "ax[1, 1].set_axis_off()\n",
        "\n",
        "plt.show()"
      ],
      "metadata": {
        "colab": {
          "base_uri": "https://localhost:8080/",
          "height": 248
        },
        "id": "qgeJoZkXu3OV",
        "outputId": "2b266939-315a-426d-99bf-e9b3839c9873"
      },
      "execution_count": 111,
      "outputs": [
        {
          "output_type": "display_data",
          "data": {
            "text/plain": [
              "<Figure size 432x288 with 4 Axes>"
            ],
            "image/png": "[encoded data removed]"
          },
          "metadata": {
            "needs_background": "light"
          }
        }
      ]
    },
    {
      "cell_type": "code",
      "source": [
        "mean_squared_error(X_train_reshape, X_encoder_orig64.reshape(-1, 784))"
      ],
      "metadata": {
        "colab": {
          "base_uri": "https://localhost:8080/"
        },
        "id": "JTeYspvtvIxq",
        "outputId": "14a9cbe8-eaeb-462f-c67f-039bb14c25ac"
      },
      "execution_count": 112,
      "outputs": [
        {
          "output_type": "execute_result",
          "data": {
            "text/plain": [
              "0.007530761"
            ]
          },
          "metadata": {},
          "execution_count": 112
        }
      ]
    },
    {
      "cell_type": "markdown",
      "source": [
        "## For M = 100"
      ],
      "metadata": {
        "id": "AHDjyZD_AMun"
      }
    },
    {
      "cell_type": "code",
      "source": [
        "autoencoder_64 = Autoencoder(P=128, Q=128, R=128, M=100)\n",
        "autoencoder_64.compile(optimizer='adam', loss='mean_squared_error')\n",
        "\n",
        "autoencoder_64.fit(\n",
        "    X_train,\n",
        "    X_train,\n",
        "    epochs=10,\n",
        "    shuffle=True,\n",
        "    validation_data=(X_test, X_test)\n",
        ")\n",
        "\n",
        "X_autoencoder_64 = autoencoder_64.encoder(X_train).numpy()"
      ],
      "metadata": {
        "colab": {
          "base_uri": "https://localhost:8080/"
        },
        "id": "9seX8xjdAQB2",
        "outputId": "07441a92-5410-45a3-a44c-31133cbfb7b6"
      },
      "execution_count": 117,
      "outputs": [
        {
          "output_type": "stream",
          "name": "stdout",
          "text": [
            "Epoch 1/10\n",
            "1875/1875 [==============================] - 31s 16ms/step - loss: 0.0297 - val_loss: 0.0171\n",
            "Epoch 2/10\n",
            "1875/1875 [==============================] - 33s 17ms/step - loss: 0.0156 - val_loss: 0.0133\n",
            "Epoch 3/10\n",
            "1875/1875 [==============================] - 18s 10ms/step - loss: 0.0125 - val_loss: 0.0112\n",
            "Epoch 4/10\n",
            "1875/1875 [==============================] - 19s 10ms/step - loss: 0.0109 - val_loss: 0.0099\n",
            "Epoch 5/10\n",
            "1875/1875 [==============================] - 18s 10ms/step - loss: 0.0100 - val_loss: 0.0097\n",
            "Epoch 6/10\n",
            "1875/1875 [==============================] - 20s 11ms/step - loss: 0.0093 - val_loss: 0.0086\n",
            "Epoch 7/10\n",
            "1875/1875 [==============================] - 18s 10ms/step - loss: 0.0088 - val_loss: 0.0083\n",
            "Epoch 8/10\n",
            "1875/1875 [==============================] - 19s 10ms/step - loss: 0.0082 - val_loss: 0.0080\n",
            "Epoch 9/10\n",
            "1875/1875 [==============================] - 18s 9ms/step - loss: 0.0078 - val_loss: 0.0075\n",
            "Epoch 10/10\n",
            "1875/1875 [==============================] - 18s 10ms/step - loss: 0.0074 - val_loss: 0.0069\n"
          ]
        }
      ]
    },
    {
      "cell_type": "code",
      "source": [
        "X_autoencoder_64.shape"
      ],
      "metadata": {
        "colab": {
          "base_uri": "https://localhost:8080/"
        },
        "id": "Yy3ONCOmAcxx",
        "outputId": "992cbddf-f6dd-4d73-ffaf-f771fad129f4"
      },
      "execution_count": 118,
      "outputs": [
        {
          "output_type": "execute_result",
          "data": {
            "text/plain": [
              "(60000, 100)"
            ]
          },
          "metadata": {},
          "execution_count": 118
        }
      ]
    },
    {
      "cell_type": "code",
      "source": [
        "_, ax = plt.subplots(2,2)\n",
        "\n",
        "ax[0, 0].imshow(X_autoencoder_64[4].reshape(10, 10))\n",
        "ax[0, 0].set_axis_off()\n",
        "ax[0, 1].imshow(X_autoencoder_64[5].reshape(10, 10))\n",
        "ax[0, 1].set_axis_off()\n",
        "\n",
        "ax[1, 0].imshow(X_autoencoder_64[6].reshape(10, 10))\n",
        "ax[1, 0].set_axis_off()\n",
        "ax[1, 1].imshow(X_autoencoder_64[7].reshape(10, 10))\n",
        "ax[1, 1].set_axis_off()\n",
        "\n",
        "plt.show()"
      ],
      "metadata": {
        "colab": {
          "base_uri": "https://localhost:8080/",
          "height": 248
        },
        "id": "Sf4aqqAUAdoa",
        "outputId": "411b5fd4-b765-4a7b-aa40-85f3f1685b38"
      },
      "execution_count": 120,
      "outputs": [
        {
          "output_type": "display_data",
          "data": {
            "text/plain": [
              "<Figure size 432x288 with 4 Axes>"
            ],
            "image/png": "[encoded data removed]"
          },
          "metadata": {
            "needs_background": "light"
          }
        }
      ]
    },
    {
      "cell_type": "code",
      "source": [
        "mean_squared_error(X_train_reshape, X_encoder_orig64.reshape(-1, 784))"
      ],
      "metadata": {
        "colab": {
          "base_uri": "https://localhost:8080/"
        },
        "id": "cqzS3McKAd7_",
        "outputId": "c0a77df3-51fe-47ca-d3c1-d8649b1ab436"
      },
      "execution_count": 121,
      "outputs": [
        {
          "output_type": "execute_result",
          "data": {
            "text/plain": [
              "0.007530761"
            ]
          },
          "metadata": {},
          "execution_count": 121
        }
      ]
    },
    {
      "cell_type": "markdown",
      "source": [
        "## For M = 784"
      ],
      "metadata": {
        "id": "s1YiFo0fvJj3"
      }
    },
    {
      "cell_type": "code",
      "source": [
        "autoencoder_784 = Autoencoder(P=128, Q=128, R=128, M=784)\n",
        "autoencoder_784.compile(optimizer='adam', loss='mean_squared_error')\n",
        "\n",
        "autoencoder_784.fit(\n",
        "    X_train,\n",
        "    X_train,\n",
        "    epochs=10,\n",
        "    shuffle=True,\n",
        "    validation_data=(X_test, X_test)\n",
        ")\n",
        "\n",
        "X_autoencoder_784 = autoencoder_784.encoder(X_train).numpy()"
      ],
      "metadata": {
        "colab": {
          "base_uri": "https://localhost:8080/"
        },
        "id": "BVCT68vjvK7F",
        "outputId": "54350904-939c-473b-d10f-455fb07292fa"
      },
      "execution_count": 113,
      "outputs": [
        {
          "output_type": "stream",
          "name": "stdout",
          "text": [
            "Epoch 1/10\n",
            "1875/1875 [==============================] - 22s 11ms/step - loss: 0.0296 - val_loss: 0.0181\n",
            "Epoch 2/10\n",
            "1875/1875 [==============================] - 22s 11ms/step - loss: 0.0152 - val_loss: 0.0126\n",
            "Epoch 3/10\n",
            "1875/1875 [==============================] - 21s 11ms/step - loss: 0.0119 - val_loss: 0.0105\n",
            "Epoch 4/10\n",
            "1875/1875 [==============================] - 20s 11ms/step - loss: 0.0103 - val_loss: 0.0096\n",
            "Epoch 5/10\n",
            "1875/1875 [==============================] - 21s 11ms/step - loss: 0.0093 - val_loss: 0.0086\n",
            "Epoch 6/10\n",
            "1875/1875 [==============================] - 20s 11ms/step - loss: 0.0086 - val_loss: 0.0079\n",
            "Epoch 7/10\n",
            "1875/1875 [==============================] - 21s 11ms/step - loss: 0.0080 - val_loss: 0.0077\n",
            "Epoch 8/10\n",
            "1875/1875 [==============================] - 21s 11ms/step - loss: 0.0076 - val_loss: 0.0071\n",
            "Epoch 9/10\n",
            "1875/1875 [==============================] - 20s 11ms/step - loss: 0.0073 - val_loss: 0.0070\n",
            "Epoch 10/10\n",
            "1875/1875 [==============================] - 22s 12ms/step - loss: 0.0070 - val_loss: 0.0067\n"
          ]
        }
      ]
    },
    {
      "cell_type": "code",
      "source": [
        "X_autoencoder_784.shape"
      ],
      "metadata": {
        "colab": {
          "base_uri": "https://localhost:8080/"
        },
        "id": "OZJVo3N5vQi6",
        "outputId": "5122670f-978e-42da-fd20-b1659586ce4b"
      },
      "execution_count": 114,
      "outputs": [
        {
          "output_type": "execute_result",
          "data": {
            "text/plain": [
              "(60000, 784)"
            ]
          },
          "metadata": {},
          "execution_count": 114
        }
      ]
    },
    {
      "cell_type": "code",
      "source": [
        "X_encoder_orig784 = autoencoder_784.decoder(X_autoencoder_784).numpy()\n",
        "\n",
        "_, ax = plt.subplots(2,2)\n",
        "\n",
        "ax[0, 0].imshow(X_encoder_orig784[4].reshape(28, 28))\n",
        "ax[0, 0].set_axis_off()\n",
        "ax[0, 1].imshow(X_encoder_orig784[5].reshape(28, 28))\n",
        "ax[0, 1].set_axis_off()\n",
        "\n",
        "ax[1, 0].imshow(X_encoder_orig784[6].reshape(28, 28))\n",
        "ax[1, 0].set_axis_off()\n",
        "ax[1, 1].imshow(X_encoder_orig784[7].reshape(28, 28))\n",
        "ax[1, 1].set_axis_off()\n",
        "\n",
        "plt.show()"
      ],
      "metadata": {
        "colab": {
          "base_uri": "https://localhost:8080/",
          "height": 248
        },
        "id": "CFacVb5MvTLz",
        "outputId": "17b23767-33d1-42a6-9869-ae709b8d6078"
      },
      "execution_count": 115,
      "outputs": [
        {
          "output_type": "display_data",
          "data": {
            "text/plain": [
              "<Figure size 432x288 with 4 Axes>"
            ],
            "image/png": "[encoded data removed]"
          },
          "metadata": {
            "needs_background": "light"
          }
        }
      ]
    },
    {
      "cell_type": "code",
      "source": [
        "mean_squared_error(X_train_reshape, X_encoder_orig784.reshape(-1, 784))"
      ],
      "metadata": {
        "colab": {
          "base_uri": "https://localhost:8080/"
        },
        "id": "KpiQJNw7vW93",
        "outputId": "f7f53b62-3199-4fe5-fae9-4b0d686cd7d2"
      },
      "execution_count": 116,
      "outputs": [
        {
          "output_type": "execute_result",
          "data": {
            "text/plain": [
              "0.0067085293"
            ]
          },
          "metadata": {},
          "execution_count": 116
        }
      ]
    }
  ]
}