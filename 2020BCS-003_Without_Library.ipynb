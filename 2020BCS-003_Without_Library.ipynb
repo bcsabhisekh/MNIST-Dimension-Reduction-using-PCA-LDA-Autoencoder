{
  "nbformat": 4,
  "nbformat_minor": 0,
  "metadata": {
    "colab": {
      "provenance": []
    },
    "kernelspec": {
      "name": "python3",
      "display_name": "Python 3"
    },
    "language_info": {
      "name": "python"
    }
  },
  "cells": [
    {
      "cell_type": "code",
      "execution_count": 16,
      "metadata": {
        "id": "m8lpb5Ezvu6Z"
      },
      "outputs": [],
      "source": [
        "import numpy as np\n",
        "from tensorflow.keras.datasets import mnist\n",
        "from tensorflow.keras.models import Model\n",
        "\n",
        "import pandas as pd\n",
        "from sklearn.metrics import mean_squared_error\n",
        "\n",
        "import matplotlib.pyplot as plt\n",
        "\n",
        "class PCA:\n",
        "\n",
        "  def __init__ (self):\n",
        "    self.principal_components = np.array([])\n",
        "    self.mean_ = np.array([])\n",
        "\n",
        "  \n",
        "  # Define a function for PCA\n",
        "  def pca(self, X, num_components):\n",
        "      # Standardize the data\n",
        "      self.mean_ = np.mean(X, axis=0)\n",
        "      X_meaned = X - self.mean_\n",
        "      \n",
        "      # Calculate the covariance matrix\n",
        "      cov_mat = np.cov(X_meaned, rowvar=False)\n",
        "      \n",
        "      # Calculate the eigenvalues and eigenvectors\n",
        "      eigen_values, eigen_vectors = np.linalg.eig(cov_mat)\n",
        "      \n",
        "      # Sort the eigenvalues in descending order\n",
        "      sorted_index = np.argsort(eigen_values)[::-1]\n",
        "      sorted_eigenvalue = eigen_values[sorted_index]\n",
        "      \n",
        "      # Get the top n eigenvectors based on the number of components required\n",
        "      self.principal_components = eigen_vectors[:,sorted_index][:,:num_components]\n",
        "      \n",
        "      # Project the data onto the new reduced dimensionality space\n",
        "      X_reduced = np.dot(self.principal_components.T, X_meaned.T).T\n",
        "      \n",
        "      X_reduced = np.array([c.real for c in X_reduced])\n",
        "    \n",
        "      return X_reduced\n",
        "    \n",
        "  def pca_reconstruct(self, X_reduced):\n",
        "      X_reconstructed = np.dot(X_reduced, self.principal_components.T) + self.mean_\n",
        "      return X_reconstructed\n",
        "    "
      ]
    },
    {
      "cell_type": "code",
      "source": [
        "from tensorflow.keras.datasets import mnist\n",
        "\n",
        "(X_train, y_train), (X_test, y_test) = mnist.load_data()"
      ],
      "metadata": {
        "id": "1qh2DknGwnsE"
      },
      "execution_count": 6,
      "outputs": []
    },
    {
      "cell_type": "code",
      "source": [
        "X_train = X_train.reshape(-1, 784)\n",
        "X_train = X_train.astype(float) / 255.\n",
        "\n",
        "\n",
        "X_train.shape"
      ],
      "metadata": {
        "colab": {
          "base_uri": "https://localhost:8080/"
        },
        "id": "0X5Whu2JwS2H",
        "outputId": "bb3ec314-c788-40d3-de30-a91d4f09e84f"
      },
      "execution_count": 31,
      "outputs": [
        {
          "output_type": "execute_result",
          "data": {
            "text/plain": [
              "(60000, 784)"
            ]
          },
          "metadata": {},
          "execution_count": 31
        }
      ]
    },
    {
      "cell_type": "markdown",
      "source": [
        "## For M = 5"
      ],
      "metadata": {
        "id": "7bOER54b3_E0"
      }
    },
    {
      "cell_type": "code",
      "source": [
        "model = PCA()\n",
        "X_R = model.pca(X_train, 5)\n",
        "X_R.shape"
      ],
      "metadata": {
        "colab": {
          "base_uri": "https://localhost:8080/"
        },
        "id": "nnQXSJts2v6R",
        "outputId": "5f599f32-6e97-4cac-ab45-c4231f50bb04"
      },
      "execution_count": 32,
      "outputs": [
        {
          "output_type": "execute_result",
          "data": {
            "text/plain": [
              "(60000, 4)"
            ]
          },
          "metadata": {},
          "execution_count": 32
        }
      ]
    },
    {
      "cell_type": "code",
      "source": [
        "_, ax = plt.subplots(2,2)\n",
        "\n",
        "ax[0, 0].imshow(X_R[4][:4].reshape(2, 2))\n",
        "ax[0, 0].set_axis_off()\n",
        "ax[0, 1].imshow(X_R[5][:4].reshape(2, 2))\n",
        "ax[0, 1].set_axis_off()\n",
        "\n",
        "ax[1, 0].imshow(X_R[6][:4].reshape(2, 2))\n",
        "ax[1, 0].set_axis_off()\n",
        "ax[1, 1].imshow(X_R[7][:4].reshape(2, 2))\n",
        "ax[1, 1].set_axis_off()\n",
        "\n",
        "plt.show()"
      ],
      "metadata": {
        "colab": {
          "base_uri": "https://localhost:8080/",
          "height": 248
        },
        "id": "MYTxEcxJ4EbD",
        "outputId": "cb291499-ac85-4984-868d-68c75d838705"
      },
      "execution_count": 34,
      "outputs": [
        {
          "output_type": "display_data",
          "data": {
            "text/plain": [
              "<Figure size 432x288 with 4 Axes>"
            ],
            "image/png": "[encoded data removed]"
          },
          "metadata": {
            "needs_background": "light"
          }
        }
      ]
    },
    {
      "cell_type": "code",
      "source": [
        "X_RR = model.pca_reconstruct(X_R)\n",
        "X_RR.shape"
      ],
      "metadata": {
        "colab": {
          "base_uri": "https://localhost:8080/"
        },
        "id": "fqnFZG-928D3",
        "outputId": "819345ce-8911-4d64-bc76-b30900d24e87"
      },
      "execution_count": 35,
      "outputs": [
        {
          "output_type": "execute_result",
          "data": {
            "text/plain": [
              "(60000, 784)"
            ]
          },
          "metadata": {},
          "execution_count": 35
        }
      ]
    },
    {
      "cell_type": "code",
      "source": [
        "_, ax = plt.subplots(2,2)\n",
        "\n",
        "ax[0, 0].imshow(X_RR[4].reshape(28, 28))\n",
        "ax[0, 0].set_axis_off()\n",
        "ax[0, 1].imshow(X_RR[5].reshape(28, 28))\n",
        "ax[0, 1].set_axis_off()\n",
        "\n",
        "ax[1, 0].imshow(X_RR[6].reshape(28, 28))\n",
        "ax[1, 0].set_axis_off()\n",
        "ax[1, 1].imshow(X_RR[7].reshape(28, 28))\n",
        "ax[1, 1].set_axis_off()\n",
        "\n",
        "plt.show()"
      ],
      "metadata": {
        "colab": {
          "base_uri": "https://localhost:8080/",
          "height": 248
        },
        "id": "6uaU1Esi2-uH",
        "outputId": "3c6a7be4-2c75-4e7d-8b90-65a01129def2"
      },
      "execution_count": 36,
      "outputs": [
        {
          "output_type": "display_data",
          "data": {
            "text/plain": [
              "<Figure size 432x288 with 4 Axes>"
            ],
            "image/png": "[encoded data removed]"
          },
          "metadata": {
            "needs_background": "light"
          }
        }
      ]
    },
    {
      "cell_type": "code",
      "source": [
        "print(\"Mean Square Error: \", mean_squared_error(X_train, X_RR))"
      ],
      "metadata": {
        "colab": {
          "base_uri": "https://localhost:8080/"
        },
        "id": "ljdhv4B93KHn",
        "outputId": "ebd6109d-9269-4989-a7b4-cf78055f0c35"
      },
      "execution_count": 37,
      "outputs": [
        {
          "output_type": "stream",
          "name": "stdout",
          "text": [
            "Mean Square Error:  4.14438475089567e-26\n"
          ]
        }
      ]
    },
    {
      "cell_type": "markdown",
      "source": [
        "## For M = 10"
      ],
      "metadata": {
        "id": "-k2YV-Ff4zbq"
      }
    },
    {
      "cell_type": "code",
      "source": [
        "model = PCA()\n",
        "X_R = model.pca(X_train, 10)\n",
        "X_R.shape"
      ],
      "metadata": {
        "colab": {
          "base_uri": "https://localhost:8080/"
        },
        "id": "-wLrP2e24mQ4",
        "outputId": "4b328c74-1693-41cd-df9f-1c485bb8dbce"
      },
      "execution_count": 40,
      "outputs": [
        {
          "output_type": "execute_result",
          "data": {
            "text/plain": [
              "(60000, 10)"
            ]
          },
          "metadata": {},
          "execution_count": 40
        }
      ]
    },
    {
      "cell_type": "code",
      "source": [
        "_, ax = plt.subplots(2,2)\n",
        "\n",
        "ax[0, 0].imshow(X_R[4][:9].reshape(3, 3))\n",
        "ax[0, 0].set_axis_off()\n",
        "ax[0, 1].imshow(X_R[5][:9].reshape(3, 3))\n",
        "ax[0, 1].set_axis_off()\n",
        "\n",
        "ax[1, 0].imshow(X_R[6][:9].reshape(3, 3))\n",
        "ax[1, 0].set_axis_off()\n",
        "ax[1, 1].imshow(X_R[7][:9].reshape(3, 3))\n",
        "ax[1, 1].set_axis_off()\n",
        "\n",
        "plt.show()"
      ],
      "metadata": {
        "colab": {
          "base_uri": "https://localhost:8080/",
          "height": 248
        },
        "id": "xxqXskuQ47wY",
        "outputId": "e2a76ae5-095f-425a-d40e-11da10c0f1b1"
      },
      "execution_count": 41,
      "outputs": [
        {
          "output_type": "display_data",
          "data": {
            "text/plain": [
              "<Figure size 432x288 with 4 Axes>"
            ],
            "image/png": "[encoded data removed]"
          },
          "metadata": {
            "needs_background": "light"
          }
        }
      ]
    },
    {
      "cell_type": "code",
      "source": [
        "X_RR = model.pca_reconstruct(X_R)\n",
        "X_RR.shape"
      ],
      "metadata": {
        "colab": {
          "base_uri": "https://localhost:8080/"
        },
        "id": "nLtNkiWI5IDn",
        "outputId": "0665b95e-453d-404d-9dc2-8f95e469ccd9"
      },
      "execution_count": 42,
      "outputs": [
        {
          "output_type": "execute_result",
          "data": {
            "text/plain": [
              "(60000, 784)"
            ]
          },
          "metadata": {},
          "execution_count": 42
        }
      ]
    },
    {
      "cell_type": "code",
      "source": [
        "_, ax = plt.subplots(2,2)\n",
        "\n",
        "ax[0, 0].imshow(X_RR[4].reshape(28, 28))\n",
        "ax[0, 0].set_axis_off()\n",
        "ax[0, 1].imshow(X_RR[5].reshape(28, 28))\n",
        "ax[0, 1].set_axis_off()\n",
        "\n",
        "ax[1, 0].imshow(X_RR[6].reshape(28, 28))\n",
        "ax[1, 0].set_axis_off()\n",
        "ax[1, 1].imshow(X_RR[7].reshape(28, 28))\n",
        "ax[1, 1].set_axis_off()\n",
        "\n",
        "plt.show()"
      ],
      "metadata": {
        "colab": {
          "base_uri": "https://localhost:8080/",
          "height": 248
        },
        "id": "U7AJHU_45QUI",
        "outputId": "a6071b19-cca4-45e2-bc8c-b11080b45e15"
      },
      "execution_count": 43,
      "outputs": [
        {
          "output_type": "display_data",
          "data": {
            "text/plain": [
              "<Figure size 432x288 with 4 Axes>"
            ],
            "image/png": "[encoded data removed]"
          },
          "metadata": {
            "needs_background": "light"
          }
        }
      ]
    },
    {
      "cell_type": "code",
      "source": [
        "print(\"Mean Square Error: \", mean_squared_error(X_train, X_RR))\n"
      ],
      "metadata": {
        "colab": {
          "base_uri": "https://localhost:8080/"
        },
        "id": "X5nudqb75SQn",
        "outputId": "410dce67-4ab0-4998-a2c2-c1ef6e0f3f47"
      },
      "execution_count": 44,
      "outputs": [
        {
          "output_type": "stream",
          "name": "stdout",
          "text": [
            "Mean Square Error:  2.961023731197904e-26\n"
          ]
        }
      ]
    },
    {
      "cell_type": "markdown",
      "source": [
        "## For M = 25"
      ],
      "metadata": {
        "id": "xqk7qlUp5Ugv"
      }
    },
    {
      "cell_type": "code",
      "source": [
        "model = PCA()\n",
        "X_R = model.pca(X_train, 25)\n",
        "X_R.shape"
      ],
      "metadata": {
        "colab": {
          "base_uri": "https://localhost:8080/"
        },
        "id": "pXObm-Rl5XsY",
        "outputId": "8c58332f-349d-4491-ae5b-681415811e5e"
      },
      "execution_count": 45,
      "outputs": [
        {
          "output_type": "execute_result",
          "data": {
            "text/plain": [
              "(60000, 25)"
            ]
          },
          "metadata": {},
          "execution_count": 45
        }
      ]
    },
    {
      "cell_type": "code",
      "source": [
        "_, ax = plt.subplots(2,2)\n",
        "\n",
        "ax[0, 0].imshow(X_R[4][:25].reshape(5, 5))\n",
        "ax[0, 0].set_axis_off()\n",
        "ax[0, 1].imshow(X_R[5][:25].reshape(5, 5))\n",
        "ax[0, 1].set_axis_off()\n",
        "\n",
        "ax[1, 0].imshow(X_R[6][:25].reshape(5, 5))\n",
        "ax[1, 0].set_axis_off()\n",
        "ax[1, 1].imshow(X_R[7][:25].reshape(5, 5))\n",
        "ax[1, 1].set_axis_off()\n",
        "\n",
        "plt.show()"
      ],
      "metadata": {
        "colab": {
          "base_uri": "https://localhost:8080/",
          "height": 248
        },
        "id": "IenpQ__N5cfo",
        "outputId": "977b2e91-3a04-49cb-91e6-3e5443c8c75a"
      },
      "execution_count": 46,
      "outputs": [
        {
          "output_type": "display_data",
          "data": {
            "text/plain": [
              "<Figure size 432x288 with 4 Axes>"
            ],
            "image/png": "[encoded data removed]"
          },
          "metadata": {
            "needs_background": "light"
          }
        }
      ]
    },
    {
      "cell_type": "code",
      "source": [
        "X_RR = model.pca_reconstruct(X_R)\n",
        "X_RR.shape"
      ],
      "metadata": {
        "colab": {
          "base_uri": "https://localhost:8080/"
        },
        "id": "x2H2eIIU5kAo",
        "outputId": "f8c933ed-de69-4135-fb71-0768050965c1"
      },
      "execution_count": 47,
      "outputs": [
        {
          "output_type": "execute_result",
          "data": {
            "text/plain": [
              "(60000, 784)"
            ]
          },
          "metadata": {},
          "execution_count": 47
        }
      ]
    },
    {
      "cell_type": "code",
      "source": [
        "_, ax = plt.subplots(2,2)\n",
        "\n",
        "ax[0, 0].imshow(X_RR[4].reshape(28, 28))\n",
        "ax[0, 0].set_axis_off()\n",
        "ax[0, 1].imshow(X_RR[5].reshape(28, 28))\n",
        "ax[0, 1].set_axis_off()\n",
        "\n",
        "ax[1, 0].imshow(X_RR[6].reshape(28, 28))\n",
        "ax[1, 0].set_axis_off()\n",
        "ax[1, 1].imshow(X_RR[7].reshape(28, 28))\n",
        "ax[1, 1].set_axis_off()\n",
        "\n",
        "plt.show()"
      ],
      "metadata": {
        "colab": {
          "base_uri": "https://localhost:8080/",
          "height": 248
        },
        "id": "DX5qfAJT5nAI",
        "outputId": "d7d17dbf-85ce-4522-c3e0-7609540501b8"
      },
      "execution_count": 48,
      "outputs": [
        {
          "output_type": "display_data",
          "data": {
            "text/plain": [
              "<Figure size 432x288 with 4 Axes>"
            ],
            "image/png": "[encoded data removed]"
          },
          "metadata": {
            "needs_background": "light"
          }
        }
      ]
    },
    {
      "cell_type": "code",
      "source": [
        "print(\"Mean Square Error: \", mean_squared_error(X_train, X_RR))\n"
      ],
      "metadata": {
        "colab": {
          "base_uri": "https://localhost:8080/"
        },
        "id": "7xr78p6d5puI",
        "outputId": "ead2ea11-70ad-407f-e9e6-3988712c5d7e"
      },
      "execution_count": 49,
      "outputs": [
        {
          "output_type": "stream",
          "name": "stdout",
          "text": [
            "Mean Square Error:  1.7828907465701942e-26\n"
          ]
        }
      ]
    },
    {
      "cell_type": "markdown",
      "source": [
        "## For M = 64"
      ],
      "metadata": {
        "id": "eUrNj0KT5t7E"
      }
    },
    {
      "cell_type": "code",
      "source": [
        "model = PCA()\n",
        "X_R = model.pca(X_train, 64)\n",
        "X_R.shape"
      ],
      "metadata": {
        "colab": {
          "base_uri": "https://localhost:8080/"
        },
        "id": "0pCcIe0Z5vCY",
        "outputId": "d450447a-24c9-4f3d-cff8-be9a4cc9f622"
      },
      "execution_count": 51,
      "outputs": [
        {
          "output_type": "execute_result",
          "data": {
            "text/plain": [
              "(60000, 64)"
            ]
          },
          "metadata": {},
          "execution_count": 51
        }
      ]
    },
    {
      "cell_type": "code",
      "source": [
        "_, ax = plt.subplots(2,2)\n",
        "\n",
        "ax[0, 0].imshow(X_R[4].reshape(8, 8))\n",
        "ax[0, 0].set_axis_off()\n",
        "ax[0, 1].imshow(X_R[5].reshape(8, 8))\n",
        "ax[0, 1].set_axis_off()\n",
        "\n",
        "ax[1, 0].imshow(X_R[6].reshape(8, 8))\n",
        "ax[1, 0].set_axis_off()\n",
        "ax[1, 1].imshow(X_R[7].reshape(8, 8))\n",
        "ax[1, 1].set_axis_off()\n",
        "\n",
        "plt.show()"
      ],
      "metadata": {
        "colab": {
          "base_uri": "https://localhost:8080/",
          "height": 248
        },
        "id": "i69CtoRz5xtY",
        "outputId": "e9a55bc2-7f48-4979-f645-b2e3922ba84d"
      },
      "execution_count": 53,
      "outputs": [
        {
          "output_type": "display_data",
          "data": {
            "text/plain": [
              "<Figure size 432x288 with 4 Axes>"
            ],
            "image/png": "[encoded data removed]"
          },
          "metadata": {
            "needs_background": "light"
          }
        }
      ]
    },
    {
      "cell_type": "code",
      "source": [
        "X_RR = model.pca_reconstruct(X_R)\n",
        "X_RR.shape"
      ],
      "metadata": {
        "colab": {
          "base_uri": "https://localhost:8080/"
        },
        "id": "-FWjgJce51bH",
        "outputId": "2408cecd-45de-4fbf-fe6d-79100ae3a877"
      },
      "execution_count": 54,
      "outputs": [
        {
          "output_type": "execute_result",
          "data": {
            "text/plain": [
              "(60000, 784)"
            ]
          },
          "metadata": {},
          "execution_count": 54
        }
      ]
    },
    {
      "cell_type": "code",
      "source": [
        "_, ax = plt.subplots(2,2)\n",
        "\n",
        "ax[0, 0].imshow(X_RR[4].reshape(28, 28))\n",
        "ax[0, 0].set_axis_off()\n",
        "ax[0, 1].imshow(X_RR[5].reshape(28, 28))\n",
        "ax[0, 1].set_axis_off()\n",
        "\n",
        "ax[1, 0].imshow(X_RR[6].reshape(28, 28))\n",
        "ax[1, 0].set_axis_off()\n",
        "ax[1, 1].imshow(X_RR[7].reshape(28, 28))\n",
        "ax[1, 1].set_axis_off()\n",
        "\n",
        "plt.show()"
      ],
      "metadata": {
        "colab": {
          "base_uri": "https://localhost:8080/",
          "height": 248
        },
        "id": "jLKf__h25-3Y",
        "outputId": "cfa0d705-3f2e-4d34-f9f3-cc4e2ab13a90"
      },
      "execution_count": 55,
      "outputs": [
        {
          "output_type": "display_data",
          "data": {
            "text/plain": [
              "<Figure size 432x288 with 4 Axes>"
            ],
            "image/png": "[encoded data removed]"
          },
          "metadata": {
            "needs_background": "light"
          }
        }
      ]
    },
    {
      "cell_type": "code",
      "source": [
        "print(\"Mean Square Error: \", mean_squared_error(X_train, X_RR))\n"
      ],
      "metadata": {
        "colab": {
          "base_uri": "https://localhost:8080/"
        },
        "id": "St7G_N1L6Aq4",
        "outputId": "2d7a8204-1334-4713-bce4-b441cfb61963"
      },
      "execution_count": 56,
      "outputs": [
        {
          "output_type": "stream",
          "name": "stdout",
          "text": [
            "Mean Square Error:  7.98595805535532e-27\n"
          ]
        }
      ]
    },
    {
      "cell_type": "markdown",
      "source": [
        "## For M = 100"
      ],
      "metadata": {
        "id": "Qd7ZrFK16Eyf"
      }
    },
    {
      "cell_type": "code",
      "source": [
        "model = PCA()\n",
        "X_R = model.pca(X_train, 100)\n",
        "X_R.shape"
      ],
      "metadata": {
        "colab": {
          "base_uri": "https://localhost:8080/"
        },
        "id": "Fbs3-XEV6F7n",
        "outputId": "61c15163-0643-434e-ee3c-77e58f77be1e"
      },
      "execution_count": 57,
      "outputs": [
        {
          "output_type": "execute_result",
          "data": {
            "text/plain": [
              "(60000, 100)"
            ]
          },
          "metadata": {},
          "execution_count": 57
        }
      ]
    },
    {
      "cell_type": "code",
      "source": [
        "_, ax = plt.subplots(2,2)\n",
        "\n",
        "ax[0, 0].imshow(X_R[4].reshape(10, 10))\n",
        "ax[0, 0].set_axis_off()\n",
        "ax[0, 1].imshow(X_R[5].reshape(10, 10))\n",
        "ax[0, 1].set_axis_off()\n",
        "\n",
        "ax[1, 0].imshow(X_R[6].reshape(10, 10))\n",
        "ax[1, 0].set_axis_off()\n",
        "ax[1, 1].imshow(X_R[7].reshape(10, 10))\n",
        "ax[1, 1].set_axis_off()\n",
        "\n",
        "plt.show()"
      ],
      "metadata": {
        "colab": {
          "base_uri": "https://localhost:8080/",
          "height": 248
        },
        "id": "fYANamu16JCo",
        "outputId": "7f6b2f05-013c-42c1-d6fd-cb0be9725d3c"
      },
      "execution_count": 59,
      "outputs": [
        {
          "output_type": "display_data",
          "data": {
            "text/plain": [
              "<Figure size 432x288 with 4 Axes>"
            ],
            "image/png": "[encoded data removed]"
          },
          "metadata": {
            "needs_background": "light"
          }
        }
      ]
    },
    {
      "cell_type": "code",
      "source": [
        "X_RR = model.pca_reconstruct(X_R)\n",
        "X_RR.shape"
      ],
      "metadata": {
        "colab": {
          "base_uri": "https://localhost:8080/"
        },
        "id": "HBe0acTO6LLo",
        "outputId": "67b309aa-ac34-4155-92e6-54605ae9e963"
      },
      "execution_count": 60,
      "outputs": [
        {
          "output_type": "execute_result",
          "data": {
            "text/plain": [
              "(60000, 784)"
            ]
          },
          "metadata": {},
          "execution_count": 60
        }
      ]
    },
    {
      "cell_type": "code",
      "source": [
        "_, ax = plt.subplots(2,2)\n",
        "\n",
        "ax[0, 0].imshow(X_RR[4].reshape(28, 28))\n",
        "ax[0, 0].set_axis_off()\n",
        "ax[0, 1].imshow(X_RR[5].reshape(28, 28))\n",
        "ax[0, 1].set_axis_off()\n",
        "\n",
        "ax[1, 0].imshow(X_RR[6].reshape(28, 28))\n",
        "ax[1, 0].set_axis_off()\n",
        "ax[1, 1].imshow(X_RR[7].reshape(28, 28))\n",
        "ax[1, 1].set_axis_off()\n",
        "\n",
        "plt.show()"
      ],
      "metadata": {
        "colab": {
          "base_uri": "https://localhost:8080/",
          "height": 248
        },
        "id": "UEhuoNLa6U3I",
        "outputId": "bf8963e3-39f3-4dc0-e265-961ab41c0df3"
      },
      "execution_count": 61,
      "outputs": [
        {
          "output_type": "display_data",
          "data": {
            "text/plain": [
              "<Figure size 432x288 with 4 Axes>"
            ],
            "image/png": "[encoded data removed]"
          },
          "metadata": {
            "needs_background": "light"
          }
        }
      ]
    },
    {
      "cell_type": "code",
      "source": [
        "print(\"Mean Square Error: \", mean_squared_error(X_train, X_RR))\n"
      ],
      "metadata": {
        "colab": {
          "base_uri": "https://localhost:8080/"
        },
        "id": "cNIFP4tl6YHI",
        "outputId": "5767b396-ba83-4b65-aaed-8992d51a64c9"
      },
      "execution_count": 62,
      "outputs": [
        {
          "output_type": "stream",
          "name": "stdout",
          "text": [
            "Mean Square Error:  4.938687622389692e-27\n"
          ]
        }
      ]
    },
    {
      "cell_type": "markdown",
      "source": [
        "## For M = 200"
      ],
      "metadata": {
        "id": "TjwaM-qA6csY"
      }
    },
    {
      "cell_type": "code",
      "source": [
        "model = PCA()\n",
        "X_R = model.pca(X_train, 200)\n",
        "X_R.shape"
      ],
      "metadata": {
        "colab": {
          "base_uri": "https://localhost:8080/"
        },
        "id": "8Nrn6dLn6d0I",
        "outputId": "b1b01cf5-e8a4-4f24-8244-75459083209e"
      },
      "execution_count": 63,
      "outputs": [
        {
          "output_type": "execute_result",
          "data": {
            "text/plain": [
              "(60000, 200)"
            ]
          },
          "metadata": {},
          "execution_count": 63
        }
      ]
    },
    {
      "cell_type": "code",
      "source": [
        "_, ax = plt.subplots(2,2)\n",
        "\n",
        "ax[0, 0].imshow(X_R[4][:196].reshape(14, 14))\n",
        "ax[0, 0].set_axis_off()\n",
        "ax[0, 1].imshow(X_R[5][:196].reshape(14, 14))\n",
        "ax[0, 1].set_axis_off()\n",
        "\n",
        "ax[1, 0].imshow(X_R[6][:196].reshape(14, 14))\n",
        "ax[1, 0].set_axis_off()\n",
        "ax[1, 1].imshow(X_R[7][:196].reshape(14, 14))\n",
        "ax[1, 1].set_axis_off()\n",
        "\n",
        "plt.show()"
      ],
      "metadata": {
        "colab": {
          "base_uri": "https://localhost:8080/",
          "height": 248
        },
        "id": "UB2-7hNh6gmo",
        "outputId": "fa5decec-de4d-458e-eb0a-5648b516eedd"
      },
      "execution_count": 64,
      "outputs": [
        {
          "output_type": "display_data",
          "data": {
            "text/plain": [
              "<Figure size 432x288 with 4 Axes>"
            ],
            "image/png": "[encoded data removed]"
          },
          "metadata": {
            "needs_background": "light"
          }
        }
      ]
    },
    {
      "cell_type": "code",
      "source": [
        "X_RR = model.pca_reconstruct(X_R)\n",
        "X_RR.shape"
      ],
      "metadata": {
        "colab": {
          "base_uri": "https://localhost:8080/"
        },
        "id": "EpxMi-FO6pO5",
        "outputId": "9989e9ad-2c90-4eb5-bec9-33cfd0110760"
      },
      "execution_count": 65,
      "outputs": [
        {
          "output_type": "execute_result",
          "data": {
            "text/plain": [
              "(60000, 784)"
            ]
          },
          "metadata": {},
          "execution_count": 65
        }
      ]
    },
    {
      "cell_type": "code",
      "source": [
        "_, ax = plt.subplots(2,2)\n",
        "\n",
        "ax[0, 0].imshow(X_RR[4].reshape(28, 28))\n",
        "ax[0, 0].set_axis_off()\n",
        "ax[0, 1].imshow(X_RR[5].reshape(28, 28))\n",
        "ax[0, 1].set_axis_off()\n",
        "\n",
        "ax[1, 0].imshow(X_RR[6].reshape(28, 28))\n",
        "ax[1, 0].set_axis_off()\n",
        "ax[1, 1].imshow(X_RR[7].reshape(28, 28))\n",
        "ax[1, 1].set_axis_off()\n",
        "\n",
        "plt.show()"
      ],
      "metadata": {
        "colab": {
          "base_uri": "https://localhost:8080/",
          "height": 248
        },
        "id": "8Y-f_4fR6sP4",
        "outputId": "9e76520d-5421-4c26-faf5-380700a31185"
      },
      "execution_count": 66,
      "outputs": [
        {
          "output_type": "display_data",
          "data": {
            "text/plain": [
              "<Figure size 432x288 with 4 Axes>"
            ],
            "image/png": "[encoded data removed]"
          },
          "metadata": {
            "needs_background": "light"
          }
        }
      ]
    },
    {
      "cell_type": "code",
      "source": [
        "print(\"Mean Square Error: \", mean_squared_error(X_train, X_RR))"
      ],
      "metadata": {
        "id": "osZTZkuR6tyo"
      },
      "execution_count": null,
      "outputs": []
    },
    {
      "cell_type": "markdown",
      "source": [
        "## For M = 784"
      ],
      "metadata": {
        "id": "SIjdj63r6wGh"
      }
    },
    {
      "cell_type": "code",
      "source": [
        "model = PCA()\n",
        "X_R = model.pca(X_train, 784)\n",
        "X_R.shape"
      ],
      "metadata": {
        "colab": {
          "base_uri": "https://localhost:8080/"
        },
        "id": "w0hY7yuC6xaJ",
        "outputId": "63537b4d-a1b3-4b0d-c861-9365fc4f88df"
      },
      "execution_count": 68,
      "outputs": [
        {
          "output_type": "execute_result",
          "data": {
            "text/plain": [
              "(60000, 784)"
            ]
          },
          "metadata": {},
          "execution_count": 68
        }
      ]
    },
    {
      "cell_type": "code",
      "source": [
        "_, ax = plt.subplots(2,2)\n",
        "\n",
        "ax[0, 0].imshow(X_R[4].reshape(28, 28))\n",
        "ax[0, 0].set_axis_off()\n",
        "ax[0, 1].imshow(X_R[5].reshape(28, 28))\n",
        "ax[0, 1].set_axis_off()\n",
        "\n",
        "ax[1, 0].imshow(X_R[6].reshape(28, 28))\n",
        "ax[1, 0].set_axis_off()\n",
        "ax[1, 1].imshow(X_R[7].reshape(28, 28))\n",
        "ax[1, 1].set_axis_off()\n",
        "\n",
        "plt.show()"
      ],
      "metadata": {
        "colab": {
          "base_uri": "https://localhost:8080/",
          "height": 248
        },
        "id": "jYMhSOQf6zXo",
        "outputId": "40f9d8da-3c01-4a70-c9f3-1c5e4f0921d9"
      },
      "execution_count": 69,
      "outputs": [
        {
          "output_type": "display_data",
          "data": {
            "text/plain": [
              "<Figure size 432x288 with 4 Axes>"
            ],
            "image/png": "[encoded data removed]"
          },
          "metadata": {
            "needs_background": "light"
          }
        }
      ]
    },
    {
      "cell_type": "code",
      "source": [
        "X_RR = model.pca_reconstruct(X_R)\n",
        "X_RR.shape"
      ],
      "metadata": {
        "colab": {
          "base_uri": "https://localhost:8080/"
        },
        "id": "PHJfs2RJ6494",
        "outputId": "6c4b8a81-8dc6-46f2-9930-fb8dff5ac013"
      },
      "execution_count": 70,
      "outputs": [
        {
          "output_type": "execute_result",
          "data": {
            "text/plain": [
              "(60000, 784)"
            ]
          },
          "metadata": {},
          "execution_count": 70
        }
      ]
    },
    {
      "cell_type": "code",
      "source": [
        "_, ax = plt.subplots(2,2)\n",
        "\n",
        "ax[0, 0].imshow(X_RR[4].reshape(28, 28))\n",
        "ax[0, 0].set_axis_off()\n",
        "ax[0, 1].imshow(X_RR[5].reshape(28, 28))\n",
        "ax[0, 1].set_axis_off()\n",
        "\n",
        "ax[1, 0].imshow(X_RR[6].reshape(28, 28))\n",
        "ax[1, 0].set_axis_off()\n",
        "ax[1, 1].imshow(X_RR[7].reshape(28, 28))\n",
        "ax[1, 1].set_axis_off()\n",
        "\n",
        "plt.show()"
      ],
      "metadata": {
        "colab": {
          "base_uri": "https://localhost:8080/",
          "height": 248
        },
        "id": "O0MhMtfx67Cp",
        "outputId": "f671c47e-a2ba-409a-cef9-edb503c14e22"
      },
      "execution_count": 71,
      "outputs": [
        {
          "output_type": "display_data",
          "data": {
            "text/plain": [
              "<Figure size 432x288 with 4 Axes>"
            ],
            "image/png": "[encoded data removed]"
          },
          "metadata": {
            "needs_background": "light"
          }
        }
      ]
    },
    {
      "cell_type": "code",
      "source": [
        "print(\"Mean Square Error: \", mean_squared_error(X_train, X_RR))"
      ],
      "metadata": {
        "colab": {
          "base_uri": "https://localhost:8080/"
        },
        "id": "BJkuf91V684o",
        "outputId": "25465abf-fe90-41e0-a5e5-5e4320354a96"
      },
      "execution_count": 72,
      "outputs": [
        {
          "output_type": "stream",
          "name": "stdout",
          "text": [
            "Mean Square Error:  9.61614359566627e-52\n"
          ]
        }
      ]
    },
    {
      "cell_type": "code",
      "source": [],
      "metadata": {
        "id": "Q3U2I8Ss6-9Y"
      },
      "execution_count": null,
      "outputs": []
    }
  ]
}