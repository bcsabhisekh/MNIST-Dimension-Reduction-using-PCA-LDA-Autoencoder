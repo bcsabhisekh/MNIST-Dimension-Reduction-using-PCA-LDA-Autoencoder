{
  "nbformat": 4,
  "nbformat_minor": 0,
  "metadata": {
    "colab": {
      "provenance": []
    },
    "kernelspec": {
      "name": "python3",
      "display_name": "Python 3"
    },
    "language_info": {
      "name": "python"
    }
  },
  "cells": [
    {
      "cell_type": "code",
      "execution_count": 121,
      "metadata": {
        "id": "YYuFFn-9lpub"
      },
      "outputs": [],
      "source": [
        "import pandas as pd\n",
        "import numpy as np\n",
        "from sklearn.decomposition import PCA\n",
        "from sklearn.discriminant_analysis import LinearDiscriminantAnalysis as LDA\n",
        "from sklearn.metrics import mean_squared_error\n",
        "from sklearn.metrics import accuracy_score\n",
        "\n",
        "import matplotlib.pyplot as plt\n",
        "\n",
        "from tensorflow.keras.datasets import mnist\n",
        "from tensorflow.keras.models import Model\n",
        "from tensorflow.keras import Sequential\n",
        "from tensorflow.keras import layers"
      ]
    },
    {
      "cell_type": "code",
      "source": [
        "from tensorflow.keras.datasets import mnist\n",
        "\n",
        "(X_train, y_train), (X_test, y_test) = mnist.load_data()"
      ],
      "metadata": {
        "id": "VjYQ-99_l3Z1"
      },
      "execution_count": 122,
      "outputs": []
    },
    {
      "cell_type": "code",
      "source": [
        "print('X_train: ' + str(X_train.shape))\n",
        "print('Y_train: ' + str(y_train.shape))\n",
        "print('X_test:  '  + str(X_test.shape))\n",
        "print('Y_test:  '  + str(y_test.shape))"
      ],
      "metadata": {
        "colab": {
          "base_uri": "https://localhost:8080/"
        },
        "id": "BFfBb9lhmDKD",
        "outputId": "6846edc8-8d98-4c8e-87f5-9af63b500314"
      },
      "execution_count": 123,
      "outputs": [
        {
          "output_type": "stream",
          "name": "stdout",
          "text": [
            "X_train: (60000, 28, 28)\n",
            "Y_train: (60000,)\n",
            "X_test:  (10000, 28, 28)\n",
            "Y_test:  (10000,)\n"
          ]
        }
      ]
    },
    {
      "cell_type": "code",
      "source": [
        "X_train = X_train.astype('float32') / 255.\n",
        "X_test = X_test.astype('float32') / 255."
      ],
      "metadata": {
        "id": "8Lv9z-O9mHVU"
      },
      "execution_count": 124,
      "outputs": []
    },
    {
      "cell_type": "code",
      "source": [
        "X_train_encoder = X_train\n",
        "X_test_encoder = X_test\n",
        "X_train = X_train.reshape(-1,784)\n",
        "X_test = X_test.reshape(-1, 784)\n",
        "print(X_train.shape)"
      ],
      "metadata": {
        "colab": {
          "base_uri": "https://localhost:8080/"
        },
        "id": "aHNUKJMgmNEy",
        "outputId": "8d3b84af-14d3-40fe-ed03-a75a0744b6ca"
      },
      "execution_count": 125,
      "outputs": [
        {
          "output_type": "stream",
          "name": "stdout",
          "text": [
            "(60000, 784)\n"
          ]
        }
      ]
    },
    {
      "cell_type": "markdown",
      "source": [
        "# Task - 1\n",
        "## For M = 9"
      ],
      "metadata": {
        "id": "6M9Yk6O6nSC7"
      }
    },
    {
      "cell_type": "code",
      "source": [
        "# Applying PCA\n",
        "pca_9 = PCA(n_components = 9)\n",
        "X_9_train = pca_9.fit_transform(X_train)\n",
        "X_9_test = pca_9.fit_transform(X_test)\n",
        "print(X_9_train.shape)\n",
        "print(X_9_test.shape)"
      ],
      "metadata": {
        "colab": {
          "base_uri": "https://localhost:8080/"
        },
        "id": "SSvTQgQKnUZu",
        "outputId": "f7ad17b3-e37d-40e7-81bd-d384325139ed"
      },
      "execution_count": 126,
      "outputs": [
        {
          "output_type": "stream",
          "name": "stdout",
          "text": [
            "(60000, 9)\n",
            "(10000, 9)\n"
          ]
        }
      ]
    },
    {
      "cell_type": "markdown",
      "source": [
        "### For k = 3"
      ],
      "metadata": {
        "id": "Gp_RYKrIWE1t"
      }
    },
    {
      "cell_type": "code",
      "source": [
        "from sklearn.neighbors import KNeighborsClassifier\n",
        "knn = KNeighborsClassifier(n_neighbors=3)\n",
        "knn.fit(X_9_train, y_train)\n",
        "y_pred = knn.predict(X_9_test)"
      ],
      "metadata": {
        "id": "_PvhRhubnZsu"
      },
      "execution_count": 127,
      "outputs": []
    },
    {
      "cell_type": "code",
      "source": [
        "accuracy = accuracy_score(y_test, y_pred)\n",
        "print(\"Accuracy:\", accuracy)"
      ],
      "metadata": {
        "colab": {
          "base_uri": "https://localhost:8080/"
        },
        "id": "8WgJnxzUnhQN",
        "outputId": "5b565b46-1cce-4f7b-be3e-c124b9789b86"
      },
      "execution_count": 128,
      "outputs": [
        {
          "output_type": "stream",
          "name": "stdout",
          "text": [
            "Accuracy: 0.1631\n"
          ]
        }
      ]
    },
    {
      "cell_type": "markdown",
      "source": [
        "### For k = 5"
      ],
      "metadata": {
        "id": "OIvsJWf0W7VL"
      }
    },
    {
      "cell_type": "code",
      "source": [
        "knn = KNeighborsClassifier(n_neighbors=5)\n",
        "knn.fit(X_9_train, y_train)\n",
        "y_pred = knn.predict(X_9_test)\n",
        "accuracy1 = accuracy_score(y_test, y_pred)\n",
        "print(\"Accuracy:\", accuracy1)"
      ],
      "metadata": {
        "colab": {
          "base_uri": "https://localhost:8080/"
        },
        "id": "54xSLtvXpEJH",
        "outputId": "619381a3-5d1c-4405-f33d-517af6546149"
      },
      "execution_count": 129,
      "outputs": [
        {
          "output_type": "stream",
          "name": "stdout",
          "text": [
            "Accuracy: 0.1641\n"
          ]
        }
      ]
    },
    {
      "cell_type": "markdown",
      "source": [
        "# Task - 2\n",
        "## For M = 9"
      ],
      "metadata": {
        "id": "es86clGZXf0N"
      }
    },
    {
      "cell_type": "code",
      "source": [
        "lda = LDA(n_components=9)\n",
        "lda.fit(X_train, y_train)\n",
        "X_9_train = lda.transform(X_train)\n",
        "X_9_test = lda.transform(X_test)\n",
        "print(X_9_train.shape)\n",
        "print(X_9_test.shape)"
      ],
      "metadata": {
        "colab": {
          "base_uri": "https://localhost:8080/"
        },
        "id": "OECzvgICXlwb",
        "outputId": "c4c29c6f-1e00-4513-a679-b23433da3bcb"
      },
      "execution_count": 130,
      "outputs": [
        {
          "output_type": "stream",
          "name": "stdout",
          "text": [
            "(60000, 9)\n",
            "(10000, 9)\n"
          ]
        }
      ]
    },
    {
      "cell_type": "markdown",
      "source": [
        "### For k = 3"
      ],
      "metadata": {
        "id": "eXSmejZnZmLn"
      }
    },
    {
      "cell_type": "code",
      "source": [
        "from sklearn.neighbors import KNeighborsClassifier\n",
        "knn = KNeighborsClassifier(n_neighbors=3)\n",
        "knn.fit(X_9_train, y_train)\n",
        "y_pred = knn.predict(X_9_test)\n",
        "accuracy = accuracy_score(y_test, y_pred)\n",
        "print(\"Accuracy:\", accuracy)"
      ],
      "metadata": {
        "colab": {
          "base_uri": "https://localhost:8080/"
        },
        "id": "DQxIp3BEXl7Q",
        "outputId": "4e3831a1-9622-4d39-dea9-ddfdbcf4a327"
      },
      "execution_count": 131,
      "outputs": [
        {
          "output_type": "stream",
          "name": "stdout",
          "text": [
            "Accuracy: 0.9105\n"
          ]
        }
      ]
    },
    {
      "cell_type": "markdown",
      "source": [
        "### For k = 5"
      ],
      "metadata": {
        "id": "1p5Z62IjaHnJ"
      }
    },
    {
      "cell_type": "code",
      "source": [
        "knn = KNeighborsClassifier(n_neighbors=5)\n",
        "knn.fit(X_9_train, y_train)\n",
        "y_pred = knn.predict(X_9_test)\n",
        "accuracy2 = accuracy_score(y_test, y_pred)\n",
        "print(\"Accuracy:\", accuracy2)"
      ],
      "metadata": {
        "colab": {
          "base_uri": "https://localhost:8080/"
        },
        "id": "p33CtKvFXmEJ",
        "outputId": "851d77e4-c366-4c84-c0da-e11f8bcdaade"
      },
      "execution_count": 132,
      "outputs": [
        {
          "output_type": "stream",
          "name": "stdout",
          "text": [
            "Accuracy: 0.9145\n"
          ]
        }
      ]
    },
    {
      "cell_type": "markdown",
      "source": [
        "# Task - 3\n",
        "## For M = 9"
      ],
      "metadata": {
        "id": "BMSqLopEaRdp"
      }
    },
    {
      "cell_type": "code",
      "source": [
        "class Autoencoder(Model):\n",
        "    def __init__(self, P, Q, R, M):\n",
        "        super(Autoencoder, self).__init__()\n",
        "        \n",
        "        self.encoder = Sequential([\n",
        "          layers.Flatten(),\n",
        "          layers.Dense(P, activation='relu'),\n",
        "          layers.Dense(Q, activation='relu'),\n",
        "          layers.Dense(R, activation='relu'),\n",
        "          layers.Dense(M, activation='relu'),\n",
        "        ])\n",
        "        \n",
        "        self.decoder = Sequential([\n",
        "          layers.Dense(P, activation='relu'),\n",
        "          layers.Dense(Q, activation='relu'),\n",
        "          layers.Dense(R, activation='relu'),\n",
        "          layers.Dense(784, activation='sigmoid'),\n",
        "          layers.Reshape((28, 28))\n",
        "        ])\n",
        "\n",
        "    def call(self, x):\n",
        "        encoded = self.encoder(x)\n",
        "        decoded = self.decoder(encoded)\n",
        "        \n",
        "        return decoded"
      ],
      "metadata": {
        "id": "m4S_bxzas_pl"
      },
      "execution_count": 133,
      "outputs": []
    },
    {
      "cell_type": "code",
      "source": [
        "autoencoder_9 = Autoencoder(P=128, Q=128, R=128, M=9)\n",
        "autoencoder_9.compile(optimizer='adam', loss='mean_squared_error')\n",
        "\n",
        "autoencoder_9.fit(\n",
        "    X_train_encoder,\n",
        "    X_train_encoder,\n",
        "    epochs=10,\n",
        "    shuffle=True,\n",
        "    validation_data=(X_test_encoder, X_test_encoder)\n",
        ")\n",
        "\n",
        "X_autoencoder_9_train = autoencoder_9.encoder(X_train_encoder).numpy()\n",
        "X_autoencoder_9_test =  autoencoder_9.encoder(X_test_encoder).numpy()"
      ],
      "metadata": {
        "colab": {
          "base_uri": "https://localhost:8080/"
        },
        "id": "6SvBcrXrtNPV",
        "outputId": "01b196d3-9ec9-474e-dcd2-07a1fe5fff7e"
      },
      "execution_count": 134,
      "outputs": [
        {
          "output_type": "stream",
          "name": "stdout",
          "text": [
            "Epoch 1/10\n",
            "1875/1875 [==============================] - 16s 7ms/step - loss: 0.0373 - val_loss: 0.0260\n",
            "Epoch 2/10\n",
            "1875/1875 [==============================] - 11s 6ms/step - loss: 0.0247 - val_loss: 0.0239\n",
            "Epoch 3/10\n",
            "1875/1875 [==============================] - 11s 6ms/step - loss: 0.0225 - val_loss: 0.0215\n",
            "Epoch 4/10\n",
            "1875/1875 [==============================] - 17s 9ms/step - loss: 0.0211 - val_loss: 0.0206\n",
            "Epoch 5/10\n",
            "1875/1875 [==============================] - 17s 9ms/step - loss: 0.0202 - val_loss: 0.0195\n",
            "Epoch 6/10\n",
            "1875/1875 [==============================] - 17s 9ms/step - loss: 0.0195 - val_loss: 0.0189\n",
            "Epoch 7/10\n",
            "1875/1875 [==============================] - 17s 9ms/step - loss: 0.0190 - val_loss: 0.0189\n",
            "Epoch 8/10\n",
            "1875/1875 [==============================] - 15s 8ms/step - loss: 0.0186 - val_loss: 0.0184\n",
            "Epoch 9/10\n",
            "1875/1875 [==============================] - 16s 9ms/step - loss: 0.0182 - val_loss: 0.0181\n",
            "Epoch 10/10\n",
            "1875/1875 [==============================] - 15s 8ms/step - loss: 0.0179 - val_loss: 0.0178\n"
          ]
        }
      ]
    },
    {
      "cell_type": "markdown",
      "source": [
        "### For K = 3"
      ],
      "metadata": {
        "id": "gZzk-0yPd2c7"
      }
    },
    {
      "cell_type": "code",
      "source": [
        "X_autoencoder_9_train.shape"
      ],
      "metadata": {
        "colab": {
          "base_uri": "https://localhost:8080/"
        },
        "id": "oFYceJVjtN5V",
        "outputId": "8edd1128-6d8b-4000-9826-7e30b660350e"
      },
      "execution_count": 135,
      "outputs": [
        {
          "output_type": "execute_result",
          "data": {
            "text/plain": [
              "(60000, 9)"
            ]
          },
          "metadata": {},
          "execution_count": 135
        }
      ]
    },
    {
      "cell_type": "code",
      "source": [
        "knn = KNeighborsClassifier(n_neighbors=3)\n",
        "knn.fit(X_autoencoder_9_train, y_train)\n",
        "y_pred = knn.predict(X_autoencoder_9_test)\n",
        "accuracy = accuracy_score(y_test, y_pred)\n",
        "print(\"Accuracy:\", accuracy)"
      ],
      "metadata": {
        "colab": {
          "base_uri": "https://localhost:8080/"
        },
        "id": "entd92FecyaI",
        "outputId": "3891eeea-6866-4da9-b171-b1d9dbbc51cf"
      },
      "execution_count": 136,
      "outputs": [
        {
          "output_type": "stream",
          "name": "stdout",
          "text": [
            "Accuracy: 0.942\n"
          ]
        }
      ]
    },
    {
      "cell_type": "markdown",
      "source": [
        "### For K = 5"
      ],
      "metadata": {
        "id": "-sWSDpefftzm"
      }
    },
    {
      "cell_type": "code",
      "source": [
        "knn = KNeighborsClassifier(n_neighbors=5)\n",
        "knn.fit(X_autoencoder_9_train, y_train)\n",
        "y_pred = knn.predict(X_autoencoder_9_test)\n",
        "accuracy3 = accuracy_score(y_test, y_pred)\n",
        "print(\"Accuracy:\", accuracy3)"
      ],
      "metadata": {
        "colab": {
          "base_uri": "https://localhost:8080/"
        },
        "id": "66i5tt6Jfmuh",
        "outputId": "53529108-4154-49bc-e9aa-65bc8852da25"
      },
      "execution_count": 140,
      "outputs": [
        {
          "output_type": "stream",
          "name": "stdout",
          "text": [
            "Accuracy: 0.9431\n"
          ]
        }
      ]
    },
    {
      "cell_type": "markdown",
      "source": [
        "# Task - 4\n",
        "## Comparison of Accuracies"
      ],
      "metadata": {
        "id": "of6dWICKf6Y-"
      }
    },
    {
      "cell_type": "code",
      "source": [
        "data = {'PCA':accuracy1, 'LDA':accuracy2, 'AutoEncoder':accuracy3}\n",
        "xa = list(data.keys())\n",
        "ya = list(data.values())\n",
        "  \n",
        "fig = plt.figure(figsize = (10, 5))\n",
        " \n",
        "# creating the bar plot\n",
        "plt.bar(xa,  ya, color ='maroon',\n",
        "        width = 0.4)\n",
        " \n",
        "plt.xlabel(\"Model used\")\n",
        "plt.ylabel(\"Accuracy\")\n",
        "plt.title(\"Model Vs Accuracy\")\n",
        "plt.show()"
      ],
      "metadata": {
        "colab": {
          "base_uri": "https://localhost:8080/",
          "height": 487
        },
        "id": "yP9eDF4Ff0RR",
        "outputId": "7f605d24-ea20-424d-f3ea-2be1fa1b8205"
      },
      "execution_count": 141,
      "outputs": [
        {
          "output_type": "display_data",
          "data": {
            "text/plain": [
              "<Figure size 1000x500 with 1 Axes>"
            ],
            "image/png": "[encoded data removed]"
          },
          "metadata": {}
        }
      ]
    }
  ]
}